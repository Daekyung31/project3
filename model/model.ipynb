{
  "nbformat": 4,
  "nbformat_minor": 0,
  "metadata": {
    "colab": {
      "name": "model.ipynb",
      "provenance": []
    },
    "kernelspec": {
      "name": "python3",
      "display_name": "Python 3"
    },
    "language_info": {
      "name": "python"
    }
  },
  "cells": [
    {
      "cell_type": "code",
      "execution_count": 1,
      "metadata": {
        "colab": {
          "resources": {
            "http://localhost:8080/nbextensions/google.colab/files.js": {
              "data": "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",
              "ok": true,
              "headers": [
                [
                  "content-type",
                  "application/javascript"
                ]
              ],
              "status": 200,
              "status_text": ""
            }
          },
          "base_uri": "https://localhost:8080/",
          "height": 76
        },
        "id": "7H3AZ8Mg7BfM",
        "outputId": "1e1efabd-88cc-4e83-f707-98ddaeac1972"
      },
      "outputs": [
        {
          "output_type": "display_data",
          "data": {
            "text/html": [
              "\n",
              "     <input type=\"file\" id=\"files-96a394e7-9332-488d-9b1d-431f7be0ffb0\" name=\"files[]\" multiple disabled\n",
              "        style=\"border:none\" />\n",
              "     <output id=\"result-96a394e7-9332-488d-9b1d-431f7be0ffb0\">\n",
              "      Upload widget is only available when the cell has been executed in the\n",
              "      current browser session. Please rerun this cell to enable.\n",
              "      </output>\n",
              "      <script src=\"/nbextensions/google.colab/files.js\"></script> "
            ],
            "text/plain": [
              "<IPython.core.display.HTML object>"
            ]
          },
          "metadata": {}
        },
        {
          "output_type": "stream",
          "name": "stdout",
          "text": [
            "Saving kor_var.db to kor_var.db\n"
          ]
        }
      ],
      "source": [
        "from google.colab import files\n",
        "uploaded = files.upload()"
      ]
    },
    {
      "cell_type": "code",
      "source": [
        "import pandas as pd\n",
        "import sqlite3\n",
        "\n",
        "#DB 연결\n",
        "conn = sqlite3.connect('kor_var.db')\n",
        "cur = conn.cursor()\n",
        "var = pd.read_sql('SELECT * FROM kor_var', conn)\n",
        "var.columns=['Id','날짜','코로나 일일확진자(명)','코로나전일대비(명)','환율(원)','환율전일대비(원)','유가,WTI(달러)','유가전일대비(달러)','미국,S&P 500','미국 등락률(%)']\n",
        "\n",
        "var['날짜']=pd.to_datetime(var['날짜'])\n",
        "\n",
        "var"
      ],
      "metadata": {
        "colab": {
          "base_uri": "https://localhost:8080/",
          "height": 423
        },
        "id": "hkvOqhqM7o37",
        "outputId": "1407fd3f-c19c-4b48-c5e3-54470e71ae57"
      },
      "execution_count": 80,
      "outputs": [
        {
          "output_type": "execute_result",
          "data": {
            "text/html": [
              "<div>\n",
              "<style scoped>\n",
              "    .dataframe tbody tr th:only-of-type {\n",
              "        vertical-align: middle;\n",
              "    }\n",
              "\n",
              "    .dataframe tbody tr th {\n",
              "        vertical-align: top;\n",
              "    }\n",
              "\n",
              "    .dataframe thead th {\n",
              "        text-align: right;\n",
              "    }\n",
              "</style>\n",
              "<table border=\"1\" class=\"dataframe\">\n",
              "  <thead>\n",
              "    <tr style=\"text-align: right;\">\n",
              "      <th></th>\n",
              "      <th>Id</th>\n",
              "      <th>날짜</th>\n",
              "      <th>코로나 일일확진자(명)</th>\n",
              "      <th>코로나전일대비(명)</th>\n",
              "      <th>환율(원)</th>\n",
              "      <th>환율전일대비(원)</th>\n",
              "      <th>유가,WTI(달러)</th>\n",
              "      <th>유가전일대비(달러)</th>\n",
              "      <th>미국,S&amp;P 500</th>\n",
              "      <th>미국 등락률(%)</th>\n",
              "    </tr>\n",
              "  </thead>\n",
              "  <tbody>\n",
              "    <tr>\n",
              "      <th>0</th>\n",
              "      <td>0</td>\n",
              "      <td>2020-11-20</td>\n",
              "      <td>348.0</td>\n",
              "      <td>23.0</td>\n",
              "      <td>1117.0</td>\n",
              "      <td>NaN</td>\n",
              "      <td>42.15</td>\n",
              "      <td>NaN</td>\n",
              "      <td>3581.87</td>\n",
              "      <td>0.39</td>\n",
              "    </tr>\n",
              "    <tr>\n",
              "      <th>1</th>\n",
              "      <td>1</td>\n",
              "      <td>2020-11-21</td>\n",
              "      <td>386.0</td>\n",
              "      <td>38.0</td>\n",
              "      <td>NaN</td>\n",
              "      <td>NaN</td>\n",
              "      <td>NaN</td>\n",
              "      <td>NaN</td>\n",
              "      <td>NaN</td>\n",
              "      <td>NaN</td>\n",
              "    </tr>\n",
              "    <tr>\n",
              "      <th>2</th>\n",
              "      <td>2</td>\n",
              "      <td>2020-11-22</td>\n",
              "      <td>330.0</td>\n",
              "      <td>-56.0</td>\n",
              "      <td>NaN</td>\n",
              "      <td>NaN</td>\n",
              "      <td>NaN</td>\n",
              "      <td>NaN</td>\n",
              "      <td>NaN</td>\n",
              "      <td>NaN</td>\n",
              "    </tr>\n",
              "    <tr>\n",
              "      <th>3</th>\n",
              "      <td>3</td>\n",
              "      <td>2020-11-23</td>\n",
              "      <td>271.0</td>\n",
              "      <td>-59.0</td>\n",
              "      <td>1112.0</td>\n",
              "      <td>-5.0</td>\n",
              "      <td>43.06</td>\n",
              "      <td>0.91</td>\n",
              "      <td>3557.54</td>\n",
              "      <td>-0.68</td>\n",
              "    </tr>\n",
              "    <tr>\n",
              "      <th>4</th>\n",
              "      <td>4</td>\n",
              "      <td>2020-11-24</td>\n",
              "      <td>349.0</td>\n",
              "      <td>78.0</td>\n",
              "      <td>1110.0</td>\n",
              "      <td>-2.0</td>\n",
              "      <td>44.91</td>\n",
              "      <td>1.85</td>\n",
              "      <td>3577.59</td>\n",
              "      <td>0.56</td>\n",
              "    </tr>\n",
              "    <tr>\n",
              "      <th>...</th>\n",
              "      <td>...</td>\n",
              "      <td>...</td>\n",
              "      <td>...</td>\n",
              "      <td>...</td>\n",
              "      <td>...</td>\n",
              "      <td>...</td>\n",
              "      <td>...</td>\n",
              "      <td>...</td>\n",
              "      <td>...</td>\n",
              "      <td>...</td>\n",
              "    </tr>\n",
              "    <tr>\n",
              "      <th>405</th>\n",
              "      <td>405</td>\n",
              "      <td>2020-10-26</td>\n",
              "      <td>NaN</td>\n",
              "      <td>NaN</td>\n",
              "      <td>NaN</td>\n",
              "      <td>NaN</td>\n",
              "      <td>NaN</td>\n",
              "      <td>NaN</td>\n",
              "      <td>3465.39</td>\n",
              "      <td>0.34</td>\n",
              "    </tr>\n",
              "    <tr>\n",
              "      <th>406</th>\n",
              "      <td>406</td>\n",
              "      <td>2020-10-23</td>\n",
              "      <td>NaN</td>\n",
              "      <td>NaN</td>\n",
              "      <td>NaN</td>\n",
              "      <td>NaN</td>\n",
              "      <td>NaN</td>\n",
              "      <td>NaN</td>\n",
              "      <td>3453.49</td>\n",
              "      <td>0.52</td>\n",
              "    </tr>\n",
              "    <tr>\n",
              "      <th>407</th>\n",
              "      <td>407</td>\n",
              "      <td>2020-10-22</td>\n",
              "      <td>NaN</td>\n",
              "      <td>NaN</td>\n",
              "      <td>NaN</td>\n",
              "      <td>NaN</td>\n",
              "      <td>NaN</td>\n",
              "      <td>NaN</td>\n",
              "      <td>3435.56</td>\n",
              "      <td>-0.22</td>\n",
              "    </tr>\n",
              "    <tr>\n",
              "      <th>408</th>\n",
              "      <td>408</td>\n",
              "      <td>2020-10-21</td>\n",
              "      <td>NaN</td>\n",
              "      <td>NaN</td>\n",
              "      <td>NaN</td>\n",
              "      <td>NaN</td>\n",
              "      <td>NaN</td>\n",
              "      <td>NaN</td>\n",
              "      <td>3443.12</td>\n",
              "      <td>0.47</td>\n",
              "    </tr>\n",
              "    <tr>\n",
              "      <th>409</th>\n",
              "      <td>409</td>\n",
              "      <td>2020-10-20</td>\n",
              "      <td>NaN</td>\n",
              "      <td>NaN</td>\n",
              "      <td>NaN</td>\n",
              "      <td>NaN</td>\n",
              "      <td>NaN</td>\n",
              "      <td>NaN</td>\n",
              "      <td>3426.92</td>\n",
              "      <td>-1.63</td>\n",
              "    </tr>\n",
              "  </tbody>\n",
              "</table>\n",
              "<p>410 rows × 10 columns</p>\n",
              "</div>"
            ],
            "text/plain": [
              "      Id         날짜  코로나 일일확진자(명)  ...  유가전일대비(달러)  미국,S&P 500  미국 등락률(%)\n",
              "0      0 2020-11-20         348.0  ...         NaN     3581.87       0.39\n",
              "1      1 2020-11-21         386.0  ...         NaN         NaN        NaN\n",
              "2      2 2020-11-22         330.0  ...         NaN         NaN        NaN\n",
              "3      3 2020-11-23         271.0  ...        0.91     3557.54      -0.68\n",
              "4      4 2020-11-24         349.0  ...        1.85     3577.59       0.56\n",
              "..   ...        ...           ...  ...         ...         ...        ...\n",
              "405  405 2020-10-26           NaN  ...         NaN     3465.39       0.34\n",
              "406  406 2020-10-23           NaN  ...         NaN     3453.49       0.52\n",
              "407  407 2020-10-22           NaN  ...         NaN     3435.56      -0.22\n",
              "408  408 2020-10-21           NaN  ...         NaN     3443.12       0.47\n",
              "409  409 2020-10-20           NaN  ...         NaN     3426.92      -1.63\n",
              "\n",
              "[410 rows x 10 columns]"
            ]
          },
          "metadata": {},
          "execution_count": 80
        }
      ]
    },
    {
      "cell_type": "code",
      "source": [
        "pip install pykrx"
      ],
      "metadata": {
        "colab": {
          "base_uri": "https://localhost:8080/"
        },
        "id": "6ZohjbAx9N1x",
        "outputId": "702f8b15-bd44-46e7-b8b0-9d38ff94ac7d"
      },
      "execution_count": 4,
      "outputs": [
        {
          "output_type": "stream",
          "name": "stdout",
          "text": [
            "Collecting pykrx\n",
            "  Downloading pykrx-1.0.29-py3-none-any.whl (87 kB)\n",
            "\u001b[?25l\r\u001b[K     |███▊                            | 10 kB 23.9 MB/s eta 0:00:01\r\u001b[K     |███████▌                        | 20 kB 11.7 MB/s eta 0:00:01\r\u001b[K     |███████████▏                    | 30 kB 9.8 MB/s eta 0:00:01\r\u001b[K     |███████████████                 | 40 kB 9.0 MB/s eta 0:00:01\r\u001b[K     |██████████████████▋             | 51 kB 5.2 MB/s eta 0:00:01\r\u001b[K     |██████████████████████▍         | 61 kB 5.2 MB/s eta 0:00:01\r\u001b[K     |██████████████████████████▏     | 71 kB 5.2 MB/s eta 0:00:01\r\u001b[K     |█████████████████████████████▉  | 81 kB 5.8 MB/s eta 0:00:01\r\u001b[K     |████████████████████████████████| 87 kB 3.1 MB/s \n",
            "\u001b[?25hRequirement already satisfied: requests in /usr/local/lib/python3.7/dist-packages (from pykrx) (2.23.0)\n",
            "Collecting deprecated\n",
            "  Downloading Deprecated-1.2.13-py2.py3-none-any.whl (9.6 kB)\n",
            "Collecting datetime\n",
            "  Downloading DateTime-4.3-py2.py3-none-any.whl (60 kB)\n",
            "\u001b[K     |████████████████████████████████| 60 kB 5.3 MB/s \n",
            "\u001b[?25hRequirement already satisfied: numpy in /usr/local/lib/python3.7/dist-packages (from pykrx) (1.19.5)\n",
            "Requirement already satisfied: pandas in /usr/local/lib/python3.7/dist-packages (from pykrx) (1.1.5)\n",
            "Requirement already satisfied: xlrd in /usr/local/lib/python3.7/dist-packages (from pykrx) (1.1.0)\n",
            "Collecting zope.interface\n",
            "  Downloading zope.interface-5.4.0-cp37-cp37m-manylinux2010_x86_64.whl (251 kB)\n",
            "\u001b[K     |████████████████████████████████| 251 kB 40.3 MB/s \n",
            "\u001b[?25hRequirement already satisfied: pytz in /usr/local/lib/python3.7/dist-packages (from datetime->pykrx) (2018.9)\n",
            "Requirement already satisfied: wrapt<2,>=1.10 in /usr/local/lib/python3.7/dist-packages (from deprecated->pykrx) (1.13.3)\n",
            "Requirement already satisfied: python-dateutil>=2.7.3 in /usr/local/lib/python3.7/dist-packages (from pandas->pykrx) (2.8.2)\n",
            "Requirement already satisfied: six>=1.5 in /usr/local/lib/python3.7/dist-packages (from python-dateutil>=2.7.3->pandas->pykrx) (1.15.0)\n",
            "Requirement already satisfied: chardet<4,>=3.0.2 in /usr/local/lib/python3.7/dist-packages (from requests->pykrx) (3.0.4)\n",
            "Requirement already satisfied: certifi>=2017.4.17 in /usr/local/lib/python3.7/dist-packages (from requests->pykrx) (2021.10.8)\n",
            "Requirement already satisfied: idna<3,>=2.5 in /usr/local/lib/python3.7/dist-packages (from requests->pykrx) (2.10)\n",
            "Requirement already satisfied: urllib3!=1.25.0,!=1.25.1,<1.26,>=1.21.1 in /usr/local/lib/python3.7/dist-packages (from requests->pykrx) (1.24.3)\n",
            "Requirement already satisfied: setuptools in /usr/local/lib/python3.7/dist-packages (from zope.interface->datetime->pykrx) (57.4.0)\n",
            "Installing collected packages: zope.interface, deprecated, datetime, pykrx\n",
            "Successfully installed datetime-4.3 deprecated-1.2.13 pykrx-1.0.29 zope.interface-5.4.0\n"
          ]
        }
      ]
    },
    {
      "cell_type": "code",
      "source": [
        "from pykrx import stock\n",
        "#음식료품 주가\n",
        "food = stock.get_index_ohlcv(\"20201120\", \"20550228\", \"1005\")\n",
        "food['등락률']=( food['종가']-food['종가'].shift())/food['종가'].shift() *100\n",
        "food=food.reset_index(drop=False)\n",
        "food"
      ],
      "metadata": {
        "colab": {
          "base_uri": "https://localhost:8080/",
          "height": 423
        },
        "id": "5pyrHZeS-Q0z",
        "outputId": "b2221271-22e6-4e3c-b326-e92452834eed"
      },
      "execution_count": 75,
      "outputs": [
        {
          "output_type": "execute_result",
          "data": {
            "text/html": [
              "<div>\n",
              "<style scoped>\n",
              "    .dataframe tbody tr th:only-of-type {\n",
              "        vertical-align: middle;\n",
              "    }\n",
              "\n",
              "    .dataframe tbody tr th {\n",
              "        vertical-align: top;\n",
              "    }\n",
              "\n",
              "    .dataframe thead th {\n",
              "        text-align: right;\n",
              "    }\n",
              "</style>\n",
              "<table border=\"1\" class=\"dataframe\">\n",
              "  <thead>\n",
              "    <tr style=\"text-align: right;\">\n",
              "      <th>음식료품</th>\n",
              "      <th>날짜</th>\n",
              "      <th>시가</th>\n",
              "      <th>고가</th>\n",
              "      <th>저가</th>\n",
              "      <th>종가</th>\n",
              "      <th>거래량</th>\n",
              "      <th>거래대금</th>\n",
              "      <th>등락률</th>\n",
              "    </tr>\n",
              "  </thead>\n",
              "  <tbody>\n",
              "    <tr>\n",
              "      <th>0</th>\n",
              "      <td>2020-11-20</td>\n",
              "      <td>3861.31</td>\n",
              "      <td>3876.83</td>\n",
              "      <td>3853.62</td>\n",
              "      <td>3858.97</td>\n",
              "      <td>33123825</td>\n",
              "      <td>238845333793</td>\n",
              "      <td>NaN</td>\n",
              "    </tr>\n",
              "    <tr>\n",
              "      <th>1</th>\n",
              "      <td>2020-11-23</td>\n",
              "      <td>3872.22</td>\n",
              "      <td>3880.86</td>\n",
              "      <td>3845.62</td>\n",
              "      <td>3859.26</td>\n",
              "      <td>120918660</td>\n",
              "      <td>190274199050</td>\n",
              "      <td>0.007515</td>\n",
              "    </tr>\n",
              "    <tr>\n",
              "      <th>2</th>\n",
              "      <td>2020-11-24</td>\n",
              "      <td>3860.82</td>\n",
              "      <td>3866.18</td>\n",
              "      <td>3823.39</td>\n",
              "      <td>3832.16</td>\n",
              "      <td>208710593</td>\n",
              "      <td>230737458447</td>\n",
              "      <td>-0.702207</td>\n",
              "    </tr>\n",
              "    <tr>\n",
              "      <th>3</th>\n",
              "      <td>2020-11-25</td>\n",
              "      <td>3837.03</td>\n",
              "      <td>3847.01</td>\n",
              "      <td>3780.25</td>\n",
              "      <td>3802.82</td>\n",
              "      <td>43692451</td>\n",
              "      <td>179425671158</td>\n",
              "      <td>-0.765626</td>\n",
              "    </tr>\n",
              "    <tr>\n",
              "      <th>4</th>\n",
              "      <td>2020-11-26</td>\n",
              "      <td>3795.78</td>\n",
              "      <td>3819.33</td>\n",
              "      <td>3795.78</td>\n",
              "      <td>3810.20</td>\n",
              "      <td>737620851</td>\n",
              "      <td>417743997940</td>\n",
              "      <td>0.194067</td>\n",
              "    </tr>\n",
              "    <tr>\n",
              "      <th>...</th>\n",
              "      <td>...</td>\n",
              "      <td>...</td>\n",
              "      <td>...</td>\n",
              "      <td>...</td>\n",
              "      <td>...</td>\n",
              "      <td>...</td>\n",
              "      <td>...</td>\n",
              "      <td>...</td>\n",
              "    </tr>\n",
              "    <tr>\n",
              "      <th>257</th>\n",
              "      <td>2021-12-06</td>\n",
              "      <td>3707.99</td>\n",
              "      <td>3734.39</td>\n",
              "      <td>3666.47</td>\n",
              "      <td>3717.59</td>\n",
              "      <td>5910378</td>\n",
              "      <td>61180319291</td>\n",
              "      <td>0.102591</td>\n",
              "    </tr>\n",
              "    <tr>\n",
              "      <th>258</th>\n",
              "      <td>2021-12-07</td>\n",
              "      <td>3717.08</td>\n",
              "      <td>3783.62</td>\n",
              "      <td>3716.13</td>\n",
              "      <td>3780.37</td>\n",
              "      <td>5288251</td>\n",
              "      <td>72329307980</td>\n",
              "      <td>1.688728</td>\n",
              "    </tr>\n",
              "    <tr>\n",
              "      <th>259</th>\n",
              "      <td>2021-12-08</td>\n",
              "      <td>3796.91</td>\n",
              "      <td>3803.89</td>\n",
              "      <td>3739.92</td>\n",
              "      <td>3741.42</td>\n",
              "      <td>12862841</td>\n",
              "      <td>70890953722</td>\n",
              "      <td>-1.030322</td>\n",
              "    </tr>\n",
              "    <tr>\n",
              "      <th>260</th>\n",
              "      <td>2021-12-09</td>\n",
              "      <td>3755.27</td>\n",
              "      <td>3777.85</td>\n",
              "      <td>3748.89</td>\n",
              "      <td>3771.11</td>\n",
              "      <td>16361909</td>\n",
              "      <td>92398163626</td>\n",
              "      <td>0.793549</td>\n",
              "    </tr>\n",
              "    <tr>\n",
              "      <th>261</th>\n",
              "      <td>2021-12-10</td>\n",
              "      <td>3756.53</td>\n",
              "      <td>3795.22</td>\n",
              "      <td>3752.60</td>\n",
              "      <td>3767.91</td>\n",
              "      <td>17154676</td>\n",
              "      <td>94858703906</td>\n",
              "      <td>-0.084856</td>\n",
              "    </tr>\n",
              "  </tbody>\n",
              "</table>\n",
              "<p>262 rows × 8 columns</p>\n",
              "</div>"
            ],
            "text/plain": [
              "음식료품         날짜       시가       고가  ...        거래량          거래대금       등락률\n",
              "0    2020-11-20  3861.31  3876.83  ...   33123825  238845333793       NaN\n",
              "1    2020-11-23  3872.22  3880.86  ...  120918660  190274199050  0.007515\n",
              "2    2020-11-24  3860.82  3866.18  ...  208710593  230737458447 -0.702207\n",
              "3    2020-11-25  3837.03  3847.01  ...   43692451  179425671158 -0.765626\n",
              "4    2020-11-26  3795.78  3819.33  ...  737620851  417743997940  0.194067\n",
              "..          ...      ...      ...  ...        ...           ...       ...\n",
              "257  2021-12-06  3707.99  3734.39  ...    5910378   61180319291  0.102591\n",
              "258  2021-12-07  3717.08  3783.62  ...    5288251   72329307980  1.688728\n",
              "259  2021-12-08  3796.91  3803.89  ...   12862841   70890953722 -1.030322\n",
              "260  2021-12-09  3755.27  3777.85  ...   16361909   92398163626  0.793549\n",
              "261  2021-12-10  3756.53  3795.22  ...   17154676   94858703906 -0.084856\n",
              "\n",
              "[262 rows x 8 columns]"
            ]
          },
          "metadata": {},
          "execution_count": 75
        }
      ]
    },
    {
      "cell_type": "code",
      "source": [
        "food_var = pd.merge(food,var, how='left',on='날짜')\n",
        "\n",
        "food_var=food_var[['등락률','코로나 일일확진자(명)',\t'코로나전일대비(명)',\t'환율(원)',\t'환율전일대비(원)',\t'유가,WTI(달러)',\t'유가전일대비(달러)',\t'미국,S&P 500',\t'미국 등락률(%)']]\n",
        "food_var = food_var.dropna() #결측치 있는 행 제거\n",
        "food_var=food_var.reset_index(drop=True)\n",
        "\n",
        "food_var"
      ],
      "metadata": {
        "colab": {
          "base_uri": "https://localhost:8080/",
          "height": 423
        },
        "id": "d2Dmtrv7_Xoq",
        "outputId": "fe05c485-43b6-4ee1-85f2-32d7afd5f83e"
      },
      "execution_count": 227,
      "outputs": [
        {
          "output_type": "execute_result",
          "data": {
            "text/html": [
              "<div>\n",
              "<style scoped>\n",
              "    .dataframe tbody tr th:only-of-type {\n",
              "        vertical-align: middle;\n",
              "    }\n",
              "\n",
              "    .dataframe tbody tr th {\n",
              "        vertical-align: top;\n",
              "    }\n",
              "\n",
              "    .dataframe thead th {\n",
              "        text-align: right;\n",
              "    }\n",
              "</style>\n",
              "<table border=\"1\" class=\"dataframe\">\n",
              "  <thead>\n",
              "    <tr style=\"text-align: right;\">\n",
              "      <th></th>\n",
              "      <th>등락률</th>\n",
              "      <th>코로나 일일확진자(명)</th>\n",
              "      <th>코로나전일대비(명)</th>\n",
              "      <th>환율(원)</th>\n",
              "      <th>환율전일대비(원)</th>\n",
              "      <th>유가,WTI(달러)</th>\n",
              "      <th>유가전일대비(달러)</th>\n",
              "      <th>미국,S&amp;P 500</th>\n",
              "      <th>미국 등락률(%)</th>\n",
              "    </tr>\n",
              "  </thead>\n",
              "  <tbody>\n",
              "    <tr>\n",
              "      <th>0</th>\n",
              "      <td>0.007515</td>\n",
              "      <td>271.0</td>\n",
              "      <td>-59.0</td>\n",
              "      <td>1112.0</td>\n",
              "      <td>-5.0</td>\n",
              "      <td>43.06</td>\n",
              "      <td>0.91</td>\n",
              "      <td>3557.54</td>\n",
              "      <td>-0.68</td>\n",
              "    </tr>\n",
              "    <tr>\n",
              "      <th>1</th>\n",
              "      <td>-0.702207</td>\n",
              "      <td>349.0</td>\n",
              "      <td>78.0</td>\n",
              "      <td>1110.0</td>\n",
              "      <td>-2.0</td>\n",
              "      <td>44.91</td>\n",
              "      <td>1.85</td>\n",
              "      <td>3577.59</td>\n",
              "      <td>0.56</td>\n",
              "    </tr>\n",
              "    <tr>\n",
              "      <th>2</th>\n",
              "      <td>-0.765626</td>\n",
              "      <td>382.0</td>\n",
              "      <td>33.0</td>\n",
              "      <td>1107.0</td>\n",
              "      <td>-3.0</td>\n",
              "      <td>45.71</td>\n",
              "      <td>0.80</td>\n",
              "      <td>3635.41</td>\n",
              "      <td>1.62</td>\n",
              "    </tr>\n",
              "    <tr>\n",
              "      <th>3</th>\n",
              "      <td>0.284762</td>\n",
              "      <td>555.0</td>\n",
              "      <td>-26.0</td>\n",
              "      <td>1105.0</td>\n",
              "      <td>-2.5</td>\n",
              "      <td>45.53</td>\n",
              "      <td>-0.18</td>\n",
              "      <td>3629.65</td>\n",
              "      <td>-0.16</td>\n",
              "    </tr>\n",
              "    <tr>\n",
              "      <th>4</th>\n",
              "      <td>-0.929849</td>\n",
              "      <td>438.0</td>\n",
              "      <td>-12.0</td>\n",
              "      <td>1107.5</td>\n",
              "      <td>2.5</td>\n",
              "      <td>45.34</td>\n",
              "      <td>-0.19</td>\n",
              "      <td>3638.35</td>\n",
              "      <td>0.24</td>\n",
              "    </tr>\n",
              "    <tr>\n",
              "      <th>...</th>\n",
              "      <td>...</td>\n",
              "      <td>...</td>\n",
              "      <td>...</td>\n",
              "      <td>...</td>\n",
              "      <td>...</td>\n",
              "      <td>...</td>\n",
              "      <td>...</td>\n",
              "      <td>...</td>\n",
              "      <td>...</td>\n",
              "    </tr>\n",
              "    <tr>\n",
              "      <th>248</th>\n",
              "      <td>0.102591</td>\n",
              "      <td>4324.0</td>\n",
              "      <td>-802.0</td>\n",
              "      <td>1182.0</td>\n",
              "      <td>-1.0</td>\n",
              "      <td>69.49</td>\n",
              "      <td>3.23</td>\n",
              "      <td>4538.43</td>\n",
              "      <td>-0.84</td>\n",
              "    </tr>\n",
              "    <tr>\n",
              "      <th>249</th>\n",
              "      <td>1.688728</td>\n",
              "      <td>4954.0</td>\n",
              "      <td>630.0</td>\n",
              "      <td>1179.0</td>\n",
              "      <td>-3.0</td>\n",
              "      <td>72.05</td>\n",
              "      <td>2.56</td>\n",
              "      <td>4591.67</td>\n",
              "      <td>1.17</td>\n",
              "    </tr>\n",
              "    <tr>\n",
              "      <th>250</th>\n",
              "      <td>-1.030322</td>\n",
              "      <td>7174.0</td>\n",
              "      <td>2220.0</td>\n",
              "      <td>1177.0</td>\n",
              "      <td>-2.0</td>\n",
              "      <td>72.36</td>\n",
              "      <td>0.31</td>\n",
              "      <td>4686.75</td>\n",
              "      <td>2.07</td>\n",
              "    </tr>\n",
              "    <tr>\n",
              "      <th>251</th>\n",
              "      <td>0.793549</td>\n",
              "      <td>7102.0</td>\n",
              "      <td>-72.0</td>\n",
              "      <td>1176.5</td>\n",
              "      <td>-0.5</td>\n",
              "      <td>70.94</td>\n",
              "      <td>-1.42</td>\n",
              "      <td>4701.21</td>\n",
              "      <td>0.31</td>\n",
              "    </tr>\n",
              "    <tr>\n",
              "      <th>252</th>\n",
              "      <td>-0.084856</td>\n",
              "      <td>7022.0</td>\n",
              "      <td>-80.0</td>\n",
              "      <td>1182.0</td>\n",
              "      <td>5.5</td>\n",
              "      <td>71.67</td>\n",
              "      <td>0.73</td>\n",
              "      <td>4667.45</td>\n",
              "      <td>-0.72</td>\n",
              "    </tr>\n",
              "  </tbody>\n",
              "</table>\n",
              "<p>253 rows × 9 columns</p>\n",
              "</div>"
            ],
            "text/plain": [
              "          등락률  코로나 일일확진자(명)  코로나전일대비(명)  ...  유가전일대비(달러)  미국,S&P 500  미국 등락률(%)\n",
              "0    0.007515         271.0       -59.0  ...        0.91     3557.54      -0.68\n",
              "1   -0.702207         349.0        78.0  ...        1.85     3577.59       0.56\n",
              "2   -0.765626         382.0        33.0  ...        0.80     3635.41       1.62\n",
              "3    0.284762         555.0       -26.0  ...       -0.18     3629.65      -0.16\n",
              "4   -0.929849         438.0       -12.0  ...       -0.19     3638.35       0.24\n",
              "..        ...           ...         ...  ...         ...         ...        ...\n",
              "248  0.102591        4324.0      -802.0  ...        3.23     4538.43      -0.84\n",
              "249  1.688728        4954.0       630.0  ...        2.56     4591.67       1.17\n",
              "250 -1.030322        7174.0      2220.0  ...        0.31     4686.75       2.07\n",
              "251  0.793549        7102.0       -72.0  ...       -1.42     4701.21       0.31\n",
              "252 -0.084856        7022.0       -80.0  ...        0.73     4667.45      -0.72\n",
              "\n",
              "[253 rows x 9 columns]"
            ]
          },
          "metadata": {},
          "execution_count": 227
        }
      ]
    },
    {
      "cell_type": "code",
      "source": [
        "from sklearn.model_selection import train_test_split\n",
        "\n",
        "df_train, df_val = train_test_split(food_var, test_size= 0.2, random_state = 2)\n",
        "\n",
        "target ='등락률'\n",
        "features = food_var.drop(columns = [target]).columns\n",
        "\n",
        "X_train = df_train[features]\n",
        "y_train = df_train[target]\n",
        "X_val = df_val[features]\n",
        "y_val = df_val[target]\n",
        "\n",
        "X_train.shape,y_train.shape, X_val.shape, y_val.shape"
      ],
      "metadata": {
        "colab": {
          "base_uri": "https://localhost:8080/"
        },
        "id": "AYXprEPOIhZJ",
        "outputId": "fbb10bc8-44db-4115-8cfb-338bae98412f"
      },
      "execution_count": 243,
      "outputs": [
        {
          "output_type": "execute_result",
          "data": {
            "text/plain": [
              "((202, 8), (202,), (51, 8), (51,))"
            ]
          },
          "metadata": {},
          "execution_count": 243
        }
      ]
    },
    {
      "cell_type": "code",
      "source": [
        "pip install category_encoders"
      ],
      "metadata": {
        "colab": {
          "base_uri": "https://localhost:8080/"
        },
        "id": "DXOSpqsMRq6q",
        "outputId": "27bfa93d-e2cd-4d45-8274-ce4b90ed6cfb"
      },
      "execution_count": 229,
      "outputs": [
        {
          "output_type": "stream",
          "name": "stdout",
          "text": [
            "Requirement already satisfied: category_encoders in /usr/local/lib/python3.7/dist-packages (2.3.0)\n",
            "Requirement already satisfied: scikit-learn>=0.20.0 in /usr/local/lib/python3.7/dist-packages (from category_encoders) (1.0.1)\n",
            "Requirement already satisfied: patsy>=0.5.1 in /usr/local/lib/python3.7/dist-packages (from category_encoders) (0.5.2)\n",
            "Requirement already satisfied: pandas>=0.21.1 in /usr/local/lib/python3.7/dist-packages (from category_encoders) (1.1.5)\n",
            "Requirement already satisfied: scipy>=1.0.0 in /usr/local/lib/python3.7/dist-packages (from category_encoders) (1.4.1)\n",
            "Requirement already satisfied: numpy>=1.14.0 in /usr/local/lib/python3.7/dist-packages (from category_encoders) (1.19.5)\n",
            "Requirement already satisfied: statsmodels>=0.9.0 in /usr/local/lib/python3.7/dist-packages (from category_encoders) (0.10.2)\n",
            "Requirement already satisfied: python-dateutil>=2.7.3 in /usr/local/lib/python3.7/dist-packages (from pandas>=0.21.1->category_encoders) (2.8.2)\n",
            "Requirement already satisfied: pytz>=2017.2 in /usr/local/lib/python3.7/dist-packages (from pandas>=0.21.1->category_encoders) (2018.9)\n",
            "Requirement already satisfied: six in /usr/local/lib/python3.7/dist-packages (from patsy>=0.5.1->category_encoders) (1.15.0)\n",
            "Requirement already satisfied: threadpoolctl>=2.0.0 in /usr/local/lib/python3.7/dist-packages (from scikit-learn>=0.20.0->category_encoders) (3.0.0)\n",
            "Requirement already satisfied: joblib>=0.11 in /usr/local/lib/python3.7/dist-packages (from scikit-learn>=0.20.0->category_encoders) (1.1.0)\n"
          ]
        }
      ]
    },
    {
      "cell_type": "code",
      "source": [
        "from sklearn.linear_model import RidgeCV\n",
        "import warnings\n",
        "warnings.simplefilter(action='ignore', category=FutureWarning) # FutureWarning 제거\n",
        "\n",
        "alphas = [0, 0.001, 0.01, 0.1] #알파 = 람다(페널티). \n",
        "\n",
        "ridge = RidgeCV(alphas=alphas, normalize=True, cv=5) #cv: 교차검증(Cross-validation)\n",
        "ridge.fit(X_train, y_train)\n",
        "print(\"alpha: \", ridge.alpha_)\n",
        "print(\"best score: \", ridge.best_score_)\n",
        "\n",
        "#alpha:  1.0\n",
        "#best score:  0.0039915234669229745\n",
        "\n",
        "#alpha:  0.1\n",
        "#best score:  -0.009420379578308746\n",
        "\n",
        "#alpha:  0.01\n",
        "#best score:  -0.021511171057986434"
      ],
      "metadata": {
        "colab": {
          "base_uri": "https://localhost:8080/"
        },
        "id": "e4F6vyTxUrcQ",
        "outputId": "4a02f22f-3182-41cd-d924-680b9190a912"
      },
      "execution_count": 244,
      "outputs": [
        {
          "output_type": "stream",
          "name": "stdout",
          "text": [
            "alpha:  0.1\n",
            "best score:  -0.009420379578308746\n"
          ]
        }
      ]
    },
    {
      "cell_type": "code",
      "source": [
        "y_pred = ridge.predict(X_val)\n",
        "\n",
        "#테스트 타깃 데이터와 예측데이터를 가지고 평균 절대 오차 구하기\n",
        "from sklearn.metrics import mean_absolute_error, r2_score\n",
        "mae = mean_absolute_error(y_val, y_pred)\n",
        "r2 = r2_score(y_val, y_pred)\n",
        "\n",
        "print(mae, r2)\n",
        "\n",
        "#0.7922393715611292 0\n",
        "# 0.789415006430353\n",
        "#0.7984414916166488\n",
        "\n",
        "#0.07131910552677889\n",
        "#0.07784692394121029\n",
        "#0.07513518588144852"
      ],
      "metadata": {
        "colab": {
          "base_uri": "https://localhost:8080/"
        },
        "id": "3Lqoghm6UwxF",
        "outputId": "1a528a29-b659-47b9-fa09-183017f45531"
      },
      "execution_count": 245,
      "outputs": [
        {
          "output_type": "stream",
          "name": "stdout",
          "text": [
            "0.789415006430353 0.07784692394121029\n"
          ]
        }
      ]
    },
    {
      "cell_type": "code",
      "source": [
        "pip install joblib"
      ],
      "metadata": {
        "colab": {
          "base_uri": "https://localhost:8080/"
        },
        "id": "ZUJHHH_bhaOY",
        "outputId": "b1b4c5e9-e955-4f38-e392-938fda2fbcba"
      },
      "execution_count": 246,
      "outputs": [
        {
          "output_type": "stream",
          "name": "stdout",
          "text": [
            "Requirement already satisfied: joblib in /usr/local/lib/python3.7/dist-packages (1.1.0)\n"
          ]
        }
      ]
    },
    {
      "cell_type": "code",
      "source": [
        "import joblib\n",
        "joblib.dump(ridge, 'model_food.pkl')"
      ],
      "metadata": {
        "colab": {
          "base_uri": "https://localhost:8080/"
        },
        "id": "2ZHKebnghNvT",
        "outputId": "2136849e-2096-4b51-e44e-6daa48c4fc14"
      },
      "execution_count": 247,
      "outputs": [
        {
          "output_type": "execute_result",
          "data": {
            "text/plain": [
              "['model_food.pkl']"
            ]
          },
          "metadata": {},
          "execution_count": 247
        }
      ]
    },
    {
      "cell_type": "code",
      "source": [
        "from sklearn.linear_model import LinearRegression\n",
        "#선형회귀모델\n",
        "model = LinearRegression()\n",
        "\n",
        "#모델 fit\n",
        "model.fit(X_train, y_train)\n",
        "y_pred = model.predict(X_train)\n",
        "\n",
        "#테스트 데이터에 적용\n",
        "y_pred = model.predict(X_val)"
      ],
      "metadata": {
        "id": "xbn94xx7YrMc"
      },
      "execution_count": 232,
      "outputs": []
    },
    {
      "cell_type": "code",
      "source": [
        "mae = mean_absolute_error(y_val, y_pred)\n",
        "r2 = r2_score(y_val, y_pred)\n",
        "\n",
        "print(mae, r2)"
      ],
      "metadata": {
        "colab": {
          "base_uri": "https://localhost:8080/"
        },
        "id": "tA8vdwFIZR3N",
        "outputId": "670ebf17-5d8e-4893-f76a-6e69c57c1877"
      },
      "execution_count": 226,
      "outputs": [
        {
          "output_type": "stream",
          "name": "stdout",
          "text": [
            "0.800376369530565 0.07487460356352349\n"
          ]
        }
      ]
    },
    {
      "cell_type": "code",
      "source": [
        "#1006 섬유의복\n",
        "clo = stock.get_index_ohlcv(\"20201120\", \"20550228\", \"1006\")\n",
        "clo['등락률']=( clo['종가']-clo['종가'].shift())/clo['종가'].shift() *100\n",
        "clo=clo.reset_index(drop=False)\n",
        "clo"
      ],
      "metadata": {
        "colab": {
          "base_uri": "https://localhost:8080/",
          "height": 423
        },
        "id": "FlnQOInEcjKa",
        "outputId": "c93821b8-3fa7-421a-f400-f098284b5b3a"
      },
      "execution_count": 252,
      "outputs": [
        {
          "output_type": "execute_result",
          "data": {
            "text/html": [
              "<div>\n",
              "<style scoped>\n",
              "    .dataframe tbody tr th:only-of-type {\n",
              "        vertical-align: middle;\n",
              "    }\n",
              "\n",
              "    .dataframe tbody tr th {\n",
              "        vertical-align: top;\n",
              "    }\n",
              "\n",
              "    .dataframe thead th {\n",
              "        text-align: right;\n",
              "    }\n",
              "</style>\n",
              "<table border=\"1\" class=\"dataframe\">\n",
              "  <thead>\n",
              "    <tr style=\"text-align: right;\">\n",
              "      <th>섬유의복</th>\n",
              "      <th>날짜</th>\n",
              "      <th>시가</th>\n",
              "      <th>고가</th>\n",
              "      <th>저가</th>\n",
              "      <th>종가</th>\n",
              "      <th>거래량</th>\n",
              "      <th>거래대금</th>\n",
              "      <th>등락률</th>\n",
              "    </tr>\n",
              "  </thead>\n",
              "  <tbody>\n",
              "    <tr>\n",
              "      <th>0</th>\n",
              "      <td>2020-11-20</td>\n",
              "      <td>252.90</td>\n",
              "      <td>255.47</td>\n",
              "      <td>252.82</td>\n",
              "      <td>255.15</td>\n",
              "      <td>11735966</td>\n",
              "      <td>30668229260</td>\n",
              "      <td>NaN</td>\n",
              "    </tr>\n",
              "    <tr>\n",
              "      <th>1</th>\n",
              "      <td>2020-11-23</td>\n",
              "      <td>254.80</td>\n",
              "      <td>254.80</td>\n",
              "      <td>250.66</td>\n",
              "      <td>251.88</td>\n",
              "      <td>9255009</td>\n",
              "      <td>49911102252</td>\n",
              "      <td>-1.281599</td>\n",
              "    </tr>\n",
              "    <tr>\n",
              "      <th>2</th>\n",
              "      <td>2020-11-24</td>\n",
              "      <td>252.61</td>\n",
              "      <td>254.00</td>\n",
              "      <td>251.99</td>\n",
              "      <td>253.48</td>\n",
              "      <td>18004855</td>\n",
              "      <td>41274674819</td>\n",
              "      <td>0.635223</td>\n",
              "    </tr>\n",
              "    <tr>\n",
              "      <th>3</th>\n",
              "      <td>2020-11-25</td>\n",
              "      <td>254.31</td>\n",
              "      <td>255.16</td>\n",
              "      <td>249.86</td>\n",
              "      <td>251.88</td>\n",
              "      <td>17016877</td>\n",
              "      <td>48841480707</td>\n",
              "      <td>-0.631214</td>\n",
              "    </tr>\n",
              "    <tr>\n",
              "      <th>4</th>\n",
              "      <td>2020-11-26</td>\n",
              "      <td>250.78</td>\n",
              "      <td>251.70</td>\n",
              "      <td>248.11</td>\n",
              "      <td>248.66</td>\n",
              "      <td>8320461</td>\n",
              "      <td>31834505810</td>\n",
              "      <td>-1.278387</td>\n",
              "    </tr>\n",
              "    <tr>\n",
              "      <th>...</th>\n",
              "      <td>...</td>\n",
              "      <td>...</td>\n",
              "      <td>...</td>\n",
              "      <td>...</td>\n",
              "      <td>...</td>\n",
              "      <td>...</td>\n",
              "      <td>...</td>\n",
              "      <td>...</td>\n",
              "    </tr>\n",
              "    <tr>\n",
              "      <th>257</th>\n",
              "      <td>2021-12-06</td>\n",
              "      <td>501.28</td>\n",
              "      <td>501.28</td>\n",
              "      <td>487.93</td>\n",
              "      <td>494.74</td>\n",
              "      <td>48110967</td>\n",
              "      <td>99008639483</td>\n",
              "      <td>-1.893752</td>\n",
              "    </tr>\n",
              "    <tr>\n",
              "      <th>258</th>\n",
              "      <td>2021-12-07</td>\n",
              "      <td>493.67</td>\n",
              "      <td>500.57</td>\n",
              "      <td>492.56</td>\n",
              "      <td>498.61</td>\n",
              "      <td>33335124</td>\n",
              "      <td>101318914505</td>\n",
              "      <td>0.782229</td>\n",
              "    </tr>\n",
              "    <tr>\n",
              "      <th>259</th>\n",
              "      <td>2021-12-08</td>\n",
              "      <td>503.25</td>\n",
              "      <td>506.50</td>\n",
              "      <td>493.77</td>\n",
              "      <td>496.17</td>\n",
              "      <td>29904118</td>\n",
              "      <td>73469959513</td>\n",
              "      <td>-0.489360</td>\n",
              "    </tr>\n",
              "    <tr>\n",
              "      <th>260</th>\n",
              "      <td>2021-12-09</td>\n",
              "      <td>498.21</td>\n",
              "      <td>506.40</td>\n",
              "      <td>496.86</td>\n",
              "      <td>502.20</td>\n",
              "      <td>64496171</td>\n",
              "      <td>130022527965</td>\n",
              "      <td>1.215309</td>\n",
              "    </tr>\n",
              "    <tr>\n",
              "      <th>261</th>\n",
              "      <td>2021-12-10</td>\n",
              "      <td>500.91</td>\n",
              "      <td>504.15</td>\n",
              "      <td>495.33</td>\n",
              "      <td>495.33</td>\n",
              "      <td>26256150</td>\n",
              "      <td>63357497237</td>\n",
              "      <td>-1.367981</td>\n",
              "    </tr>\n",
              "  </tbody>\n",
              "</table>\n",
              "<p>262 rows × 8 columns</p>\n",
              "</div>"
            ],
            "text/plain": [
              "섬유의복         날짜      시가      고가  ...       거래량          거래대금       등락률\n",
              "0    2020-11-20  252.90  255.47  ...  11735966   30668229260       NaN\n",
              "1    2020-11-23  254.80  254.80  ...   9255009   49911102252 -1.281599\n",
              "2    2020-11-24  252.61  254.00  ...  18004855   41274674819  0.635223\n",
              "3    2020-11-25  254.31  255.16  ...  17016877   48841480707 -0.631214\n",
              "4    2020-11-26  250.78  251.70  ...   8320461   31834505810 -1.278387\n",
              "..          ...     ...     ...  ...       ...           ...       ...\n",
              "257  2021-12-06  501.28  501.28  ...  48110967   99008639483 -1.893752\n",
              "258  2021-12-07  493.67  500.57  ...  33335124  101318914505  0.782229\n",
              "259  2021-12-08  503.25  506.50  ...  29904118   73469959513 -0.489360\n",
              "260  2021-12-09  498.21  506.40  ...  64496171  130022527965  1.215309\n",
              "261  2021-12-10  500.91  504.15  ...  26256150   63357497237 -1.367981\n",
              "\n",
              "[262 rows x 8 columns]"
            ]
          },
          "metadata": {},
          "execution_count": 252
        }
      ]
    },
    {
      "cell_type": "code",
      "source": [
        "clo_var = pd.merge(clo,var, how='left',on='날짜')\n",
        "\n",
        "clo_var=clo_var[['등락률','코로나 일일확진자(명)',\t'코로나전일대비(명)',\t'환율(원)',\t'환율전일대비(원)',\t'유가,WTI(달러)',\t'유가전일대비(달러)',\t'미국,S&P 500',\t'미국 등락률(%)']]\n",
        "clo_var = clo_var.dropna() #결측치 있는 행 제거\n",
        "clo_var=clo_var.reset_index(drop=True)\n",
        "\n",
        "clo_var"
      ],
      "metadata": {
        "colab": {
          "base_uri": "https://localhost:8080/",
          "height": 423
        },
        "id": "siKUo0lQeD7d",
        "outputId": "ad5628e7-9f55-4fc9-8ccc-cd71476e8d8c"
      },
      "execution_count": 253,
      "outputs": [
        {
          "output_type": "execute_result",
          "data": {
            "text/html": [
              "<div>\n",
              "<style scoped>\n",
              "    .dataframe tbody tr th:only-of-type {\n",
              "        vertical-align: middle;\n",
              "    }\n",
              "\n",
              "    .dataframe tbody tr th {\n",
              "        vertical-align: top;\n",
              "    }\n",
              "\n",
              "    .dataframe thead th {\n",
              "        text-align: right;\n",
              "    }\n",
              "</style>\n",
              "<table border=\"1\" class=\"dataframe\">\n",
              "  <thead>\n",
              "    <tr style=\"text-align: right;\">\n",
              "      <th></th>\n",
              "      <th>등락률</th>\n",
              "      <th>코로나 일일확진자(명)</th>\n",
              "      <th>코로나전일대비(명)</th>\n",
              "      <th>환율(원)</th>\n",
              "      <th>환율전일대비(원)</th>\n",
              "      <th>유가,WTI(달러)</th>\n",
              "      <th>유가전일대비(달러)</th>\n",
              "      <th>미국,S&amp;P 500</th>\n",
              "      <th>미국 등락률(%)</th>\n",
              "    </tr>\n",
              "  </thead>\n",
              "  <tbody>\n",
              "    <tr>\n",
              "      <th>0</th>\n",
              "      <td>-1.281599</td>\n",
              "      <td>271.0</td>\n",
              "      <td>-59.0</td>\n",
              "      <td>1112.0</td>\n",
              "      <td>-5.0</td>\n",
              "      <td>43.06</td>\n",
              "      <td>0.91</td>\n",
              "      <td>3557.54</td>\n",
              "      <td>-0.68</td>\n",
              "    </tr>\n",
              "    <tr>\n",
              "      <th>1</th>\n",
              "      <td>0.635223</td>\n",
              "      <td>349.0</td>\n",
              "      <td>78.0</td>\n",
              "      <td>1110.0</td>\n",
              "      <td>-2.0</td>\n",
              "      <td>44.91</td>\n",
              "      <td>1.85</td>\n",
              "      <td>3577.59</td>\n",
              "      <td>0.56</td>\n",
              "    </tr>\n",
              "    <tr>\n",
              "      <th>2</th>\n",
              "      <td>-0.631214</td>\n",
              "      <td>382.0</td>\n",
              "      <td>33.0</td>\n",
              "      <td>1107.0</td>\n",
              "      <td>-3.0</td>\n",
              "      <td>45.71</td>\n",
              "      <td>0.80</td>\n",
              "      <td>3635.41</td>\n",
              "      <td>1.62</td>\n",
              "    </tr>\n",
              "    <tr>\n",
              "      <th>3</th>\n",
              "      <td>-0.237272</td>\n",
              "      <td>555.0</td>\n",
              "      <td>-26.0</td>\n",
              "      <td>1105.0</td>\n",
              "      <td>-2.5</td>\n",
              "      <td>45.53</td>\n",
              "      <td>-0.18</td>\n",
              "      <td>3629.65</td>\n",
              "      <td>-0.16</td>\n",
              "    </tr>\n",
              "    <tr>\n",
              "      <th>4</th>\n",
              "      <td>0.278147</td>\n",
              "      <td>438.0</td>\n",
              "      <td>-12.0</td>\n",
              "      <td>1107.5</td>\n",
              "      <td>2.5</td>\n",
              "      <td>45.34</td>\n",
              "      <td>-0.19</td>\n",
              "      <td>3638.35</td>\n",
              "      <td>0.24</td>\n",
              "    </tr>\n",
              "    <tr>\n",
              "      <th>...</th>\n",
              "      <td>...</td>\n",
              "      <td>...</td>\n",
              "      <td>...</td>\n",
              "      <td>...</td>\n",
              "      <td>...</td>\n",
              "      <td>...</td>\n",
              "      <td>...</td>\n",
              "      <td>...</td>\n",
              "      <td>...</td>\n",
              "    </tr>\n",
              "    <tr>\n",
              "      <th>248</th>\n",
              "      <td>-1.893752</td>\n",
              "      <td>4324.0</td>\n",
              "      <td>-802.0</td>\n",
              "      <td>1182.0</td>\n",
              "      <td>-1.0</td>\n",
              "      <td>69.49</td>\n",
              "      <td>3.23</td>\n",
              "      <td>4538.43</td>\n",
              "      <td>-0.84</td>\n",
              "    </tr>\n",
              "    <tr>\n",
              "      <th>249</th>\n",
              "      <td>0.782229</td>\n",
              "      <td>4954.0</td>\n",
              "      <td>630.0</td>\n",
              "      <td>1179.0</td>\n",
              "      <td>-3.0</td>\n",
              "      <td>72.05</td>\n",
              "      <td>2.56</td>\n",
              "      <td>4591.67</td>\n",
              "      <td>1.17</td>\n",
              "    </tr>\n",
              "    <tr>\n",
              "      <th>250</th>\n",
              "      <td>-0.489360</td>\n",
              "      <td>7174.0</td>\n",
              "      <td>2220.0</td>\n",
              "      <td>1177.0</td>\n",
              "      <td>-2.0</td>\n",
              "      <td>72.36</td>\n",
              "      <td>0.31</td>\n",
              "      <td>4686.75</td>\n",
              "      <td>2.07</td>\n",
              "    </tr>\n",
              "    <tr>\n",
              "      <th>251</th>\n",
              "      <td>1.215309</td>\n",
              "      <td>7102.0</td>\n",
              "      <td>-72.0</td>\n",
              "      <td>1176.5</td>\n",
              "      <td>-0.5</td>\n",
              "      <td>70.94</td>\n",
              "      <td>-1.42</td>\n",
              "      <td>4701.21</td>\n",
              "      <td>0.31</td>\n",
              "    </tr>\n",
              "    <tr>\n",
              "      <th>252</th>\n",
              "      <td>-1.367981</td>\n",
              "      <td>7022.0</td>\n",
              "      <td>-80.0</td>\n",
              "      <td>1182.0</td>\n",
              "      <td>5.5</td>\n",
              "      <td>71.67</td>\n",
              "      <td>0.73</td>\n",
              "      <td>4667.45</td>\n",
              "      <td>-0.72</td>\n",
              "    </tr>\n",
              "  </tbody>\n",
              "</table>\n",
              "<p>253 rows × 9 columns</p>\n",
              "</div>"
            ],
            "text/plain": [
              "          등락률  코로나 일일확진자(명)  코로나전일대비(명)  ...  유가전일대비(달러)  미국,S&P 500  미국 등락률(%)\n",
              "0   -1.281599         271.0       -59.0  ...        0.91     3557.54      -0.68\n",
              "1    0.635223         349.0        78.0  ...        1.85     3577.59       0.56\n",
              "2   -0.631214         382.0        33.0  ...        0.80     3635.41       1.62\n",
              "3   -0.237272         555.0       -26.0  ...       -0.18     3629.65      -0.16\n",
              "4    0.278147         438.0       -12.0  ...       -0.19     3638.35       0.24\n",
              "..        ...           ...         ...  ...         ...         ...        ...\n",
              "248 -1.893752        4324.0      -802.0  ...        3.23     4538.43      -0.84\n",
              "249  0.782229        4954.0       630.0  ...        2.56     4591.67       1.17\n",
              "250 -0.489360        7174.0      2220.0  ...        0.31     4686.75       2.07\n",
              "251  1.215309        7102.0       -72.0  ...       -1.42     4701.21       0.31\n",
              "252 -1.367981        7022.0       -80.0  ...        0.73     4667.45      -0.72\n",
              "\n",
              "[253 rows x 9 columns]"
            ]
          },
          "metadata": {},
          "execution_count": 253
        }
      ]
    },
    {
      "cell_type": "code",
      "source": [
        "from sklearn.model_selection import train_test_split\n",
        "\n",
        "df_train, df_val = train_test_split(clo_var, test_size= 0.2, random_state = 2)\n",
        "\n",
        "target ='등락률'\n",
        "features = food_var.drop(columns = [target]).columns\n",
        "\n",
        "X_train = df_train[features]\n",
        "y_train = df_train[target]\n",
        "X_val = df_val[features]\n",
        "y_val = df_val[target]\n",
        "\n",
        "X_train.shape,y_train.shape, X_val.shape, y_val.shape"
      ],
      "metadata": {
        "colab": {
          "base_uri": "https://localhost:8080/"
        },
        "id": "HCNMPtn3eZju",
        "outputId": "1f6b666c-0922-4cd1-8a3d-e836911359f0"
      },
      "execution_count": 254,
      "outputs": [
        {
          "output_type": "execute_result",
          "data": {
            "text/plain": [
              "((202, 8), (202,), (51, 8), (51,))"
            ]
          },
          "metadata": {},
          "execution_count": 254
        }
      ]
    },
    {
      "cell_type": "code",
      "source": [
        "from sklearn.linear_model import RidgeCV\n",
        "import warnings\n",
        "warnings.simplefilter(action='ignore', category=FutureWarning) # FutureWarning 제거\n",
        "\n",
        "alphas = [0, 0.001, 0.01, 0.1, 1.0] #알파 = 람다(페널티). \n",
        "\n",
        "ridge = RidgeCV(alphas=alphas, normalize=True, cv=5) #cv: 교차검증(Cross-validation)\n",
        "ridge.fit(X_train, y_train)\n",
        "print(\"alpha: \", ridge.alpha_)\n",
        "print(\"best score: \", ridge.best_score_)\n",
        "\n",
        "#alpha:  1.0\n",
        "#best score:  0.0039915234669229745\n",
        "\n",
        "#alpha:  0.1\n",
        "#best score:  -0.009420379578308746\n",
        "\n",
        "#alpha:  0.01\n",
        "#best score:  -0.021511171057986434"
      ],
      "metadata": {
        "colab": {
          "base_uri": "https://localhost:8080/"
        },
        "id": "AVVYlyr0epbl",
        "outputId": "92e6750c-115b-4e5b-90b5-b85a65ee3d08"
      },
      "execution_count": 256,
      "outputs": [
        {
          "output_type": "stream",
          "name": "stdout",
          "text": [
            "alpha:  1.0\n",
            "best score:  -0.07228700752904423\n"
          ]
        }
      ]
    },
    {
      "cell_type": "code",
      "source": [
        "y_pred = ridge.predict(X_val)\n",
        "\n",
        "#테스트 타깃 데이터와 예측데이터를 가지고 평균 절대 오차 구하기\n",
        "from sklearn.metrics import mean_absolute_error, r2_score\n",
        "mae = mean_absolute_error(y_val, y_pred)\n",
        "r2 = r2_score(y_val, y_pred)\n",
        "\n",
        "print(mae, r2)\n",
        "\n",
        "#0.7922393715611292 0\n",
        "# 0.789415006430353\n",
        "#0.7984414916166488\n",
        "\n",
        "#0.07131910552677889\n",
        "#0.07784692394121029\n",
        "#0.07513518588144852"
      ],
      "metadata": {
        "colab": {
          "base_uri": "https://localhost:8080/"
        },
        "id": "6-NSzWPpevOt",
        "outputId": "6eb20f82-462c-4246-eac3-2b9278377f79"
      },
      "execution_count": 257,
      "outputs": [
        {
          "output_type": "stream",
          "name": "stdout",
          "text": [
            "1.1647026322089027 -0.018926095905775986\n"
          ]
        }
      ]
    },
    {
      "cell_type": "code",
      "source": [
        "import joblib\n",
        "joblib.dump(ridge, 'model_clo.pkl')"
      ],
      "metadata": {
        "colab": {
          "base_uri": "https://localhost:8080/"
        },
        "id": "Ewgg2BGniyiL",
        "outputId": "f9742a2a-0898-4c08-e136-d319129af556"
      },
      "execution_count": 258,
      "outputs": [
        {
          "output_type": "execute_result",
          "data": {
            "text/plain": [
              "['model_clo.pkl']"
            ]
          },
          "metadata": {},
          "execution_count": 258
        }
      ]
    },
    {
      "cell_type": "code",
      "source": [
        "from sklearn.linear_model import LinearRegression\n",
        "#선형회귀모델\n",
        "model = LinearRegression()\n",
        "\n",
        "#모델 fit\n",
        "model.fit(X_train, y_train)\n",
        "y_pred = model.predict(X_train)\n",
        "\n",
        "#테스트 데이터에 적용\n",
        "y_pred = model.predict(X_val)"
      ],
      "metadata": {
        "id": "pM4AyyQCe1mW"
      },
      "execution_count": 259,
      "outputs": []
    },
    {
      "cell_type": "code",
      "source": [
        "mae = mean_absolute_error(y_val, y_pred)\n",
        "r2 = r2_score(y_val, y_pred)\n",
        "\n",
        "print(mae, r2)"
      ],
      "metadata": {
        "colab": {
          "base_uri": "https://localhost:8080/"
        },
        "id": "xtiZeexXe5EW",
        "outputId": "c25ad487-aec6-4161-8abd-a423ed000c51"
      },
      "execution_count": 260,
      "outputs": [
        {
          "output_type": "stream",
          "name": "stdout",
          "text": [
            "1.1841237084020397 -0.06236697538053204\n"
          ]
        }
      ]
    },
    {
      "cell_type": "code",
      "source": [
        "#1007 종이목재\n",
        "wood = stock.get_index_ohlcv(\"20201120\", \"20550228\", \"1007\")\n",
        "wood['등락률']=( wood['종가']-wood['종가'].shift())/wood['종가'].shift() *100\n",
        "wood=wood.reset_index(drop=False)\n",
        "\n",
        "wood_var = pd.merge(wood,var, how='left',on='날짜')\n",
        "\n",
        "wood_var=wood_var[['등락률','코로나 일일확진자(명)',\t'코로나전일대비(명)',\t'환율(원)',\t'환율전일대비(원)',\t'유가,WTI(달러)',\t'유가전일대비(달러)',\t'미국,S&P 500',\t'미국 등락률(%)']]\n",
        "wood_var = wood_var.dropna() #결측치 있는 행 제거\n",
        "wood_var=wood_var.reset_index(drop=True)\n",
        "\n",
        "df_train, df_val = train_test_split(wood_var, test_size= 0.2, random_state = 2)\n",
        "\n",
        "target ='등락률'\n",
        "features = wood_var.drop(columns = [target]).columns\n",
        "\n",
        "X_train = df_train[features]\n",
        "y_train = df_train[target]\n",
        "X_val = df_val[features]\n",
        "y_val = df_val[target]\n",
        "\n",
        "\n",
        "alphas = [0, 0.001, 0.01, 0.1, 1.0] #알파 = 람다(페널티). \n",
        "\n",
        "ridge = RidgeCV(alphas=alphas, normalize=True, cv=5) #cv: 교차검증(Cross-validation)\n",
        "ridge.fit(X_train, y_train)\n",
        "print(\"alpha: \", ridge.alpha_)\n",
        "print(\"best score: \", ridge.best_score_)\n",
        "\n",
        "y_pred = ridge.predict(X_val)\n",
        "\n",
        "#테스트 타깃 데이터와 예측데이터를 가지고 평균 절대 오차 구하기\n",
        "from sklearn.metrics import mean_absolute_error, r2_score\n",
        "mae = mean_absolute_error(y_val, y_pred)\n",
        "r2 = r2_score(y_val, y_pred)\n",
        "\n",
        "print(mae, r2)\n",
        "\n",
        "import joblib\n",
        "joblib.dump(ridge, 'model_wood.pkl')"
      ],
      "metadata": {
        "colab": {
          "base_uri": "https://localhost:8080/"
        },
        "id": "e8IniJSvdQrX",
        "outputId": "df434124-ce9a-43cb-d35e-e2f00fbced86"
      },
      "execution_count": 261,
      "outputs": [
        {
          "output_type": "stream",
          "name": "stdout",
          "text": [
            "alpha:  1.0\n",
            "best score:  -0.04498402258997598\n",
            "1.3361695719591993 -0.020472055144902912\n"
          ]
        },
        {
          "output_type": "execute_result",
          "data": {
            "text/plain": [
              "['model_wood.pkl']"
            ]
          },
          "metadata": {},
          "execution_count": 261
        }
      ]
    },
    {
      "cell_type": "code",
      "source": [
        "#1008 화학\n",
        "che = stock.get_index_ohlcv(\"20201120\", \"20550228\", \"1008\")\n",
        "che['등락률']=( che['종가']-che['종가'].shift())/che['종가'].shift() *100\n",
        "che=che.reset_index(drop=False)\n",
        "\n",
        "che_var = pd.merge(che,var, how='left',on='날짜')\n",
        "\n",
        "che_var=che_var[['등락률','코로나 일일확진자(명)',\t'코로나전일대비(명)',\t'환율(원)',\t'환율전일대비(원)',\t'유가,WTI(달러)',\t'유가전일대비(달러)',\t'미국,S&P 500',\t'미국 등락률(%)']]\n",
        "che_var = che_var.dropna() #결측치 있는 행 제거\n",
        "che_var=che_var.reset_index(drop=True)\n",
        "\n",
        "df_train, df_val = train_test_split(che_var, test_size= 0.2, random_state = 2)\n",
        "\n",
        "target ='등락률'\n",
        "features = che_var.drop(columns = [target]).columns\n",
        "\n",
        "X_train = df_train[features]\n",
        "y_train = df_train[target]\n",
        "X_val = df_val[features]\n",
        "y_val = df_val[target]\n",
        "\n",
        "\n",
        "alphas = [0, 0.001, 0.01, 0.1, 1.0] #알파 = 람다(페널티). \n",
        "\n",
        "ridge = RidgeCV(alphas=alphas, normalize=True, cv=5) #cv: 교차검증(Cross-validation)\n",
        "ridge.fit(X_train, y_train)\n",
        "print(\"alpha: \", ridge.alpha_)\n",
        "print(\"best score: \", ridge.best_score_)\n",
        "\n",
        "y_pred = ridge.predict(X_val)\n",
        "\n",
        "#테스트 타깃 데이터와 예측데이터를 가지고 평균 절대 오차 구하기\n",
        "from sklearn.metrics import mean_absolute_error, r2_score\n",
        "mae = mean_absolute_error(y_val, y_pred)\n",
        "r2 = r2_score(y_val, y_pred)\n",
        "\n",
        "print(mae, r2)\n",
        "\n",
        "import joblib\n",
        "joblib.dump(ridge, 'model_che.pkl')"
      ],
      "metadata": {
        "colab": {
          "base_uri": "https://localhost:8080/"
        },
        "id": "3V4vrcuxdRDY",
        "outputId": "6dd68a75-48ec-419f-dbd0-e3991d62e0ca"
      },
      "execution_count": 262,
      "outputs": [
        {
          "output_type": "stream",
          "name": "stdout",
          "text": [
            "alpha:  1.0\n",
            "best score:  0.07500232704801843\n",
            "0.9526667967856067 0.02732302529418751\n"
          ]
        },
        {
          "output_type": "execute_result",
          "data": {
            "text/plain": [
              "['model_che.pkl']"
            ]
          },
          "metadata": {},
          "execution_count": 262
        }
      ]
    },
    {
      "cell_type": "code",
      "source": [
        "#1009 의약품, med\n",
        "med = stock.get_index_ohlcv(\"20201120\", \"20550228\", \"1009\")\n",
        "med['등락률']=( med['종가']-med['종가'].shift())/med['종가'].shift() *100\n",
        "med=med.reset_index(drop=False)\n",
        "\n",
        "med_var = pd.merge(med,var, how='left',on='날짜')\n",
        "\n",
        "med_var=med_var[['등락률','코로나 일일확진자(명)',\t'코로나전일대비(명)',\t'환율(원)',\t'환율전일대비(원)',\t'유가,WTI(달러)',\t'유가전일대비(달러)',\t'미국,S&P 500',\t'미국 등락률(%)']]\n",
        "med_var = med_var.dropna() #결측치 있는 행 제거\n",
        "med_var=med_var.reset_index(drop=True)\n",
        "\n",
        "df_train, df_val = train_test_split(med_var, test_size= 0.2, random_state = 2)\n",
        "\n",
        "target ='등락률'\n",
        "features = med_var.drop(columns = [target]).columns\n",
        "\n",
        "X_train = df_train[features]\n",
        "y_train = df_train[target]\n",
        "X_val = df_val[features]\n",
        "y_val = df_val[target]\n",
        "\n",
        "\n",
        "alphas = [0, 0.001, 0.01, 0.1, 1.0] #알파 = 람다(페널티). \n",
        "\n",
        "ridge = RidgeCV(alphas=alphas, normalize=True, cv=5) #cv: 교차검증(Cross-validation)\n",
        "ridge.fit(X_train, y_train)\n",
        "print(\"alpha: \", ridge.alpha_)\n",
        "print(\"best score: \", ridge.best_score_)\n",
        "\n",
        "y_pred = ridge.predict(X_val)\n",
        "\n",
        "#테스트 타깃 데이터와 예측데이터를 가지고 평균 절대 오차 구하기\n",
        "from sklearn.metrics import mean_absolute_error, r2_score\n",
        "mae = mean_absolute_error(y_val, y_pred)\n",
        "r2 = r2_score(y_val, y_pred)\n",
        "\n",
        "print(mae, r2)\n",
        "\n",
        "import joblib\n",
        "joblib.dump(ridge, 'model_med.pkl')"
      ],
      "metadata": {
        "colab": {
          "base_uri": "https://localhost:8080/"
        },
        "id": "JO407dqpdRaV",
        "outputId": "dc616443-166b-4300-af57-35719354a726"
      },
      "execution_count": 263,
      "outputs": [
        {
          "output_type": "stream",
          "name": "stdout",
          "text": [
            "alpha:  1.0\n",
            "best score:  -0.07158833893217678\n",
            "1.397701949189045 -0.05490947722654105\n"
          ]
        },
        {
          "output_type": "execute_result",
          "data": {
            "text/plain": [
              "['model_med.pkl']"
            ]
          },
          "metadata": {},
          "execution_count": 263
        }
      ]
    },
    {
      "cell_type": "code",
      "source": [
        "#1010 비금속광물, nonmetal\n",
        "nonmetal = stock.get_index_ohlcv(\"20201120\", \"20550228\", \"1010\")\n",
        "nonmetal['등락률']=( nonmetal['종가']-nonmetal['종가'].shift())/nonmetal['종가'].shift() *100\n",
        "nonmetal=nonmetal.reset_index(drop=False)\n",
        "\n",
        "nonmetal_var = pd.merge(nonmetal,var, how='left',on='날짜')\n",
        "\n",
        "nonmetal_var=nonmetal_var[['등락률','코로나 일일확진자(명)',\t'코로나전일대비(명)',\t'환율(원)',\t'환율전일대비(원)',\t'유가,WTI(달러)',\t'유가전일대비(달러)',\t'미국,S&P 500',\t'미국 등락률(%)']]\n",
        "nonmetal_var = nonmetal_var.dropna() #결측치 있는 행 제거\n",
        "nonmetal_var=nonmetal_var.reset_index(drop=True)\n",
        "\n",
        "df_train, df_val = train_test_split(nonmetal_var, test_size= 0.2, random_state = 2)\n",
        "\n",
        "target ='등락률'\n",
        "features = nonmetal_var.drop(columns = [target]).columns\n",
        "\n",
        "X_train = df_train[features]\n",
        "y_train = df_train[target]\n",
        "X_val = df_val[features]\n",
        "y_val = df_val[target]\n",
        "\n",
        "\n",
        "alphas = [0, 0.001, 0.01, 0.1, 1.0] #알파 = 람다(페널티). \n",
        "\n",
        "ridge = RidgeCV(alphas=alphas, normalize=True, cv=5) #cv: 교차검증(Cross-validation)\n",
        "ridge.fit(X_train, y_train)\n",
        "print(\"alpha: \", ridge.alpha_)\n",
        "print(\"best score: \", ridge.best_score_)\n",
        "\n",
        "y_pred = ridge.predict(X_val)\n",
        "\n",
        "#테스트 타깃 데이터와 예측데이터를 가지고 평균 절대 오차 구하기\n",
        "from sklearn.metrics import mean_absolute_error, r2_score\n",
        "mae = mean_absolute_error(y_val, y_pred)\n",
        "r2 = r2_score(y_val, y_pred)\n",
        "\n",
        "print(mae, r2)\n",
        "\n",
        "import joblib\n",
        "joblib.dump(ridge, 'model_nonmetal.pkl')"
      ],
      "metadata": {
        "colab": {
          "base_uri": "https://localhost:8080/"
        },
        "id": "Fqwt4sx0dRv_",
        "outputId": "1cfdc0f3-438d-4f3f-aca7-5aac4de8a3f0"
      },
      "execution_count": 264,
      "outputs": [
        {
          "output_type": "stream",
          "name": "stdout",
          "text": [
            "alpha:  1.0\n",
            "best score:  0.04924054688148751\n",
            "1.0735936386869687 -0.07207384517786752\n"
          ]
        },
        {
          "output_type": "execute_result",
          "data": {
            "text/plain": [
              "['model_nonmetal.pkl']"
            ]
          },
          "metadata": {},
          "execution_count": 264
        }
      ]
    },
    {
      "cell_type": "code",
      "source": [
        "#1011 철강금속, ste\n",
        "ste = stock.get_index_ohlcv(\"20201120\", \"20550228\", \"1011\")\n",
        "ste['등락률']=( ste['종가']-ste['종가'].shift())/ste['종가'].shift() *100\n",
        "ste=ste.reset_index(drop=False)\n",
        "\n",
        "ste_var = pd.merge(ste,var, how='left',on='날짜')\n",
        "\n",
        "ste_var=ste_var[['등락률','코로나 일일확진자(명)',\t'코로나전일대비(명)',\t'환율(원)',\t'환율전일대비(원)',\t'유가,WTI(달러)',\t'유가전일대비(달러)',\t'미국,S&P 500',\t'미국 등락률(%)']]\n",
        "ste_var = ste_var.dropna() #결측치 있는 행 제거\n",
        "ste_var=ste_var.reset_index(drop=True)\n",
        "\n",
        "df_train, df_val = train_test_split(ste_var, test_size= 0.2, random_state = 2)\n",
        "\n",
        "target ='등락률'\n",
        "features = ste_var.drop(columns = [target]).columns\n",
        "\n",
        "X_train = df_train[features]\n",
        "y_train = df_train[target]\n",
        "X_val = df_val[features]\n",
        "y_val = df_val[target]\n",
        "\n",
        "\n",
        "alphas = [0, 0.001, 0.01, 0.1, 1.0] #알파 = 람다(페널티). \n",
        "\n",
        "ridge = RidgeCV(alphas=alphas, normalize=True, cv=5) #cv: 교차검증(Cross-validation)\n",
        "ridge.fit(X_train, y_train)\n",
        "print(\"alpha: \", ridge.alpha_)\n",
        "print(\"best score: \", ridge.best_score_)\n",
        "\n",
        "y_pred = ridge.predict(X_val)\n",
        "\n",
        "#테스트 타깃 데이터와 예측데이터를 가지고 평균 절대 오차 구하기\n",
        "from sklearn.metrics import mean_absolute_error, r2_score\n",
        "mae = mean_absolute_error(y_val, y_pred)\n",
        "r2 = r2_score(y_val, y_pred)\n",
        "\n",
        "print(mae, r2)\n",
        "\n",
        "import joblib\n",
        "joblib.dump(ridge, 'model_ste.pkl')"
      ],
      "metadata": {
        "colab": {
          "base_uri": "https://localhost:8080/"
        },
        "id": "V9BJkxMHdSRo",
        "outputId": "f213d64a-cd8d-457c-95b8-7a8661abb0bb"
      },
      "execution_count": 265,
      "outputs": [
        {
          "output_type": "stream",
          "name": "stdout",
          "text": [
            "alpha:  1.0\n",
            "best score:  0.05784675816995159\n",
            "1.3302449839068076 -0.007816750469993305\n"
          ]
        },
        {
          "output_type": "execute_result",
          "data": {
            "text/plain": [
              "['model_ste.pkl']"
            ]
          },
          "metadata": {},
          "execution_count": 265
        }
      ]
    },
    {
      "cell_type": "code",
      "source": [
        "#1012 기계, mac\n",
        "mac = stock.get_index_ohlcv(\"20201120\", \"20550228\", \"1012\")\n",
        "mac['등락률']=( mac['종가']-mac['종가'].shift())/mac['종가'].shift() *100\n",
        "mac=mac.reset_index(drop=False)\n",
        "\n",
        "mac_var = pd.merge(mac,var, how='left',on='날짜')\n",
        "\n",
        "mac_var=mac_var[['등락률','코로나 일일확진자(명)',\t'코로나전일대비(명)',\t'환율(원)',\t'환율전일대비(원)',\t'유가,WTI(달러)',\t'유가전일대비(달러)',\t'미국,S&P 500',\t'미국 등락률(%)']]\n",
        "mac_var = mac_var.dropna() #결측치 있는 행 제거\n",
        "mac_var=mac_var.reset_index(drop=True)\n",
        "\n",
        "df_train, df_val = train_test_split(mac_var, test_size= 0.2, random_state = 2)\n",
        "\n",
        "target ='등락률'\n",
        "features = mac_var.drop(columns = [target]).columns\n",
        "\n",
        "X_train = df_train[features]\n",
        "y_train = df_train[target]\n",
        "X_val = df_val[features]\n",
        "y_val = df_val[target]\n",
        "\n",
        "\n",
        "alphas = [0, 0.001, 0.01, 0.1, 1.0] #알파 = 람다(페널티). \n",
        "\n",
        "ridge = RidgeCV(alphas=alphas, normalize=True, cv=5) #cv: 교차검증(Cross-validation)\n",
        "ridge.fit(X_train, y_train)\n",
        "print(\"alpha: \", ridge.alpha_)\n",
        "print(\"best score: \", ridge.best_score_)\n",
        "\n",
        "y_pred = ridge.predict(X_val)\n",
        "\n",
        "#테스트 타깃 데이터와 예측데이터를 가지고 평균 절대 오차 구하기\n",
        "from sklearn.metrics import mean_absolute_error, r2_score\n",
        "mae = mean_absolute_error(y_val, y_pred)\n",
        "r2 = r2_score(y_val, y_pred)\n",
        "\n",
        "print(mae, r2)\n",
        "\n",
        "import joblib\n",
        "joblib.dump(ridge, 'model_mac.pkl')"
      ],
      "metadata": {
        "colab": {
          "base_uri": "https://localhost:8080/"
        },
        "id": "ULOOYp_NdSnM",
        "outputId": "90e4e613-f9ac-4d23-92ff-60419971918d"
      },
      "execution_count": 266,
      "outputs": [
        {
          "output_type": "stream",
          "name": "stdout",
          "text": [
            "alpha:  1.0\n",
            "best score:  0.03851162005232771\n",
            "1.4410223626873004 0.0700827516323258\n"
          ]
        },
        {
          "output_type": "execute_result",
          "data": {
            "text/plain": [
              "['model_mac.pkl']"
            ]
          },
          "metadata": {},
          "execution_count": 266
        }
      ]
    },
    {
      "cell_type": "code",
      "source": [
        "#1013 전기전자, ele\n",
        "ele = stock.get_index_ohlcv(\"20201120\", \"20550228\", \"1013\")\n",
        "ele['등락률']=( ele['종가']-ele['종가'].shift())/ele['종가'].shift() *100\n",
        "ele=ele.reset_index(drop=False)\n",
        "\n",
        "ele_var = pd.merge(ele,var, how='left',on='날짜')\n",
        "\n",
        "ele_var=ele_var[['등락률','코로나 일일확진자(명)',\t'코로나전일대비(명)',\t'환율(원)',\t'환율전일대비(원)',\t'유가,WTI(달러)',\t'유가전일대비(달러)',\t'미국,S&P 500',\t'미국 등락률(%)']]\n",
        "ele_var = ele_var.dropna() #결측치 있는 행 제거\n",
        "ele_var=ele_var.reset_index(drop=True)\n",
        "\n",
        "df_train, df_val = train_test_split(ele_var, test_size= 0.2, random_state = 2)\n",
        "\n",
        "target ='등락률'\n",
        "features = ele_var.drop(columns = [target]).columns\n",
        "\n",
        "X_train = df_train[features]\n",
        "y_train = df_train[target]\n",
        "X_val = df_val[features]\n",
        "y_val = df_val[target]\n",
        "\n",
        "\n",
        "alphas = [0, 0.001, 0.01, 0.1, 1.0] #알파 = 람다(페널티). \n",
        "\n",
        "ridge = RidgeCV(alphas=alphas, normalize=True, cv=5) #cv: 교차검증(Cross-validation)\n",
        "ridge.fit(X_train, y_train)\n",
        "print(\"alpha: \", ridge.alpha_)\n",
        "print(\"best score: \", ridge.best_score_)\n",
        "\n",
        "y_pred = ridge.predict(X_val)\n",
        "\n",
        "#테스트 타깃 데이터와 예측데이터를 가지고 평균 절대 오차 구하기\n",
        "from sklearn.metrics import mean_absolute_error, r2_score\n",
        "mae = mean_absolute_error(y_val, y_pred)\n",
        "r2 = r2_score(y_val, y_pred)\n",
        "\n",
        "print(mae, r2)\n",
        "\n",
        "import joblib\n",
        "joblib.dump(ridge, 'model_ele.pkl')"
      ],
      "metadata": {
        "colab": {
          "base_uri": "https://localhost:8080/"
        },
        "id": "dHB8dTKUdS8t",
        "outputId": "621be659-8625-499a-eb70-fdc5c1809374"
      },
      "execution_count": 267,
      "outputs": [
        {
          "output_type": "stream",
          "name": "stdout",
          "text": [
            "alpha:  0.1\n",
            "best score:  0.1898026412932413\n",
            "0.9597003591429368 0.08561532671397887\n"
          ]
        },
        {
          "output_type": "execute_result",
          "data": {
            "text/plain": [
              "['model_ele.pkl']"
            ]
          },
          "metadata": {},
          "execution_count": 267
        }
      ]
    },
    {
      "cell_type": "code",
      "source": [
        "#1014 의료정밀, prec\n",
        "prec = stock.get_index_ohlcv(\"20201120\", \"20550228\", \"1014\")\n",
        "prec['등락률']=( prec['종가']-prec['종가'].shift())/prec['종가'].shift() *100\n",
        "prec=prec.reset_index(drop=False)\n",
        "\n",
        "prec_var = pd.merge(prec,var, how='left',on='날짜')\n",
        "\n",
        "prec_var=prec_var[['등락률','코로나 일일확진자(명)',\t'코로나전일대비(명)',\t'환율(원)',\t'환율전일대비(원)',\t'유가,WTI(달러)',\t'유가전일대비(달러)',\t'미국,S&P 500',\t'미국 등락률(%)']]\n",
        "prec_var = prec_var.dropna() #결측치 있는 행 제거\n",
        "prec_var=prec_var.reset_index(drop=True)\n",
        "\n",
        "df_train, df_val = train_test_split(prec_var, test_size= 0.2, random_state = 2)\n",
        "\n",
        "target ='등락률'\n",
        "features = prec_var.drop(columns = [target]).columns\n",
        "\n",
        "X_train = df_train[features]\n",
        "y_train = df_train[target]\n",
        "X_val = df_val[features]\n",
        "y_val = df_val[target]\n",
        "\n",
        "\n",
        "alphas = [0, 0.001, 0.01, 0.1, 1.0] #알파 = 람다(페널티). \n",
        "\n",
        "ridge = RidgeCV(alphas=alphas, normalize=True, cv=5) #cv: 교차검증(Cross-validation)\n",
        "ridge.fit(X_train, y_train)\n",
        "print(\"alpha: \", ridge.alpha_)\n",
        "print(\"best score: \", ridge.best_score_)\n",
        "\n",
        "y_pred = ridge.predict(X_val)\n",
        "\n",
        "#테스트 타깃 데이터와 예측데이터를 가지고 평균 절대 오차 구하기\n",
        "from sklearn.metrics import mean_absolute_error, r2_score\n",
        "mae = mean_absolute_error(y_val, y_pred)\n",
        "r2 = r2_score(y_val, y_pred)\n",
        "\n",
        "print(mae, r2)\n",
        "\n",
        "import joblib\n",
        "joblib.dump(ridge, 'model_prec.pkl')"
      ],
      "metadata": {
        "colab": {
          "base_uri": "https://localhost:8080/"
        },
        "id": "Xozs1eDRdTTK",
        "outputId": "c3548930-b17b-4ede-eaf6-488fa2876546"
      },
      "execution_count": 269,
      "outputs": [
        {
          "output_type": "stream",
          "name": "stdout",
          "text": [
            "alpha:  1.0\n",
            "best score:  0.024721351474821397\n",
            "1.2390170195485084 -0.12746430462425695\n"
          ]
        },
        {
          "output_type": "execute_result",
          "data": {
            "text/plain": [
              "['model_prec.pkl']"
            ]
          },
          "metadata": {},
          "execution_count": 269
        }
      ]
    },
    {
      "cell_type": "code",
      "source": [
        "#1015 운수장비, trans\n",
        "trans = stock.get_index_ohlcv(\"20201120\", \"20550228\", \"1015\")\n",
        "trans['등락률']=( trans['종가']-trans['종가'].shift())/trans['종가'].shift() *100\n",
        "trans=trans.reset_index(drop=False)\n",
        "\n",
        "trans_var = pd.merge(trans,var, how='left',on='날짜')\n",
        "\n",
        "trans_var=trans_var[['등락률','코로나 일일확진자(명)',\t'코로나전일대비(명)',\t'환율(원)',\t'환율전일대비(원)',\t'유가,WTI(달러)',\t'유가전일대비(달러)',\t'미국,S&P 500',\t'미국 등락률(%)']]\n",
        "trans_var = trans_var.dropna() #결측치 있는 행 제거\n",
        "trans_var=trans_var.reset_index(drop=True)\n",
        "\n",
        "df_train, df_val = train_test_split(trans_var, test_size= 0.2, random_state = 2)\n",
        "\n",
        "target ='등락률'\n",
        "features = trans_var.drop(columns = [target]).columns\n",
        "\n",
        "X_train = df_train[features]\n",
        "y_train = df_train[target]\n",
        "X_val = df_val[features]\n",
        "y_val = df_val[target]\n",
        "\n",
        "\n",
        "alphas = [0, 0.001, 0.01, 0.1, 1.0] #알파 = 람다(페널티). \n",
        "\n",
        "ridge = RidgeCV(alphas=alphas, normalize=True, cv=5) #cv: 교차검증(Cross-validation)\n",
        "ridge.fit(X_train, y_train)\n",
        "print(\"alpha: \", ridge.alpha_)\n",
        "print(\"best score: \", ridge.best_score_)\n",
        "\n",
        "y_pred = ridge.predict(X_val)\n",
        "\n",
        "#테스트 타깃 데이터와 예측데이터를 가지고 평균 절대 오차 구하기\n",
        "from sklearn.metrics import mean_absolute_error, r2_score\n",
        "mae = mean_absolute_error(y_val, y_pred)\n",
        "r2 = r2_score(y_val, y_pred)\n",
        "\n",
        "print(mae, r2)\n",
        "\n",
        "import joblib\n",
        "joblib.dump(ridge, 'model_trans.pkl')"
      ],
      "metadata": {
        "colab": {
          "base_uri": "https://localhost:8080/"
        },
        "id": "-kc_pOcAdTpG",
        "outputId": "0219719e-2964-4fbc-b553-b1fb60e01de8"
      },
      "execution_count": 270,
      "outputs": [
        {
          "output_type": "stream",
          "name": "stdout",
          "text": [
            "alpha:  1.0\n",
            "best score:  0.034746422435343274\n",
            "1.3254891135458278 0.030288176878095263\n"
          ]
        },
        {
          "output_type": "execute_result",
          "data": {
            "text/plain": [
              "['model_trans.pkl']"
            ]
          },
          "metadata": {},
          "execution_count": 270
        }
      ]
    },
    {
      "cell_type": "code",
      "source": [
        "#1016 유통업, cir\n",
        "cir = stock.get_index_ohlcv(\"20201120\", \"20550228\", \"1016\")\n",
        "cir['등락률']=( cir['종가']-cir['종가'].shift())/cir['종가'].shift() *100\n",
        "cir=cir.reset_index(drop=False)\n",
        "\n",
        "cir_var = pd.merge(cir,var, how='left',on='날짜')\n",
        "\n",
        "cir_var=cir_var[['등락률','코로나 일일확진자(명)',\t'코로나전일대비(명)',\t'환율(원)',\t'환율전일대비(원)',\t'유가,WTI(달러)',\t'유가전일대비(달러)',\t'미국,S&P 500',\t'미국 등락률(%)']]\n",
        "cir_var = cir_var.dropna() #결측치 있는 행 제거\n",
        "cir_var=cir_var.reset_index(drop=True)\n",
        "\n",
        "df_train, df_val = train_test_split(cir_var, test_size= 0.2, random_state = 2)\n",
        "\n",
        "target ='등락률'\n",
        "features = cir_var.drop(columns = [target]).columns\n",
        "\n",
        "X_train = df_train[features]\n",
        "y_train = df_train[target]\n",
        "X_val = df_val[features]\n",
        "y_val = df_val[target]\n",
        "\n",
        "\n",
        "alphas = [0, 0.001, 0.01, 0.1, 1.0] #알파 = 람다(페널티). \n",
        "\n",
        "ridge = RidgeCV(alphas=alphas, normalize=True, cv=5) #cv: 교차검증(Cross-validation)\n",
        "ridge.fit(X_train, y_train)\n",
        "print(\"alpha: \", ridge.alpha_)\n",
        "print(\"best score: \", ridge.best_score_)\n",
        "\n",
        "y_pred = ridge.predict(X_val)\n",
        "\n",
        "#테스트 타깃 데이터와 예측데이터를 가지고 평균 절대 오차 구하기\n",
        "from sklearn.metrics import mean_absolute_error, r2_score\n",
        "mae = mean_absolute_error(y_val, y_pred)\n",
        "r2 = r2_score(y_val, y_pred)\n",
        "\n",
        "print(mae, r2)\n",
        "\n",
        "import joblib\n",
        "joblib.dump(ridge, 'model_cir.pkl')"
      ],
      "metadata": {
        "colab": {
          "base_uri": "https://localhost:8080/"
        },
        "id": "9Kz6g5vIdT9k",
        "outputId": "80815837-5f63-4332-b262-42a1bb2ba7bf"
      },
      "execution_count": 271,
      "outputs": [
        {
          "output_type": "stream",
          "name": "stdout",
          "text": [
            "alpha:  1.0\n",
            "best score:  0.11460043802968851\n",
            "0.896283676366834 0.09725218722064144\n"
          ]
        },
        {
          "output_type": "execute_result",
          "data": {
            "text/plain": [
              "['model_cir.pkl']"
            ]
          },
          "metadata": {},
          "execution_count": 271
        }
      ]
    },
    {
      "cell_type": "code",
      "source": [
        "#1017 전기가스업, gas\n",
        "gas = stock.get_index_ohlcv(\"20201120\", \"20550228\", \"1017\")\n",
        "gas['등락률']=( gas['종가']-gas['종가'].shift())/gas['종가'].shift() *100\n",
        "gas=gas.reset_index(drop=False)\n",
        "\n",
        "gas_var = pd.merge(gas,var, how='left',on='날짜')\n",
        "\n",
        "gas_var=gas_var[['등락률','코로나 일일확진자(명)',\t'코로나전일대비(명)',\t'환율(원)',\t'환율전일대비(원)',\t'유가,WTI(달러)',\t'유가전일대비(달러)',\t'미국,S&P 500',\t'미국 등락률(%)']]\n",
        "gas_var = gas_var.dropna() #결측치 있는 행 제거\n",
        "gas_var=gas_var.reset_index(drop=True)\n",
        "\n",
        "df_train, df_val = train_test_split(gas_var, test_size= 0.2, random_state = 2)\n",
        "\n",
        "target ='등락률'\n",
        "features = gas_var.drop(columns = [target]).columns\n",
        "\n",
        "X_train = df_train[features]\n",
        "y_train = df_train[target]\n",
        "X_val = df_val[features]\n",
        "y_val = df_val[target]\n",
        "\n",
        "\n",
        "alphas = [0, 0.001, 0.01, 0.1, 1.0] #알파 = 람다(페널티). \n",
        "\n",
        "ridge = RidgeCV(alphas=alphas, normalize=True, cv=5) #cv: 교차검증(Cross-validation)\n",
        "ridge.fit(X_train, y_train)\n",
        "print(\"alpha: \", ridge.alpha_)\n",
        "print(\"best score: \", ridge.best_score_)\n",
        "\n",
        "y_pred = ridge.predict(X_val)\n",
        "\n",
        "#테스트 타깃 데이터와 예측데이터를 가지고 평균 절대 오차 구하기\n",
        "from sklearn.metrics import mean_absolute_error, r2_score\n",
        "mae = mean_absolute_error(y_val, y_pred)\n",
        "r2 = r2_score(y_val, y_pred)\n",
        "\n",
        "print(mae, r2)\n",
        "\n",
        "import joblib\n",
        "joblib.dump(ridge, 'model_gas.pkl')"
      ],
      "metadata": {
        "colab": {
          "base_uri": "https://localhost:8080/"
        },
        "id": "JQvUpc2klAlp",
        "outputId": "61b7c336-3c2c-42ff-d102-18c6202e311b"
      },
      "execution_count": 272,
      "outputs": [
        {
          "output_type": "stream",
          "name": "stdout",
          "text": [
            "alpha:  1.0\n",
            "best score:  0.0021987142936504833\n",
            "1.1789063425811845 0.004558613706801995\n"
          ]
        },
        {
          "output_type": "execute_result",
          "data": {
            "text/plain": [
              "['model_gas.pkl']"
            ]
          },
          "metadata": {},
          "execution_count": 272
        }
      ]
    },
    {
      "cell_type": "code",
      "source": [
        "#1018 건설업, con\n",
        "con = stock.get_index_ohlcv(\"20201120\", \"20550228\", \"1018\")\n",
        "con['등락률']=( con['종가']-con['종가'].shift())/con['종가'].shift() *100\n",
        "con=con.reset_index(drop=False)\n",
        "\n",
        "con_var = pd.merge(con,var, how='left',on='날짜')\n",
        "\n",
        "con_var=con_var[['등락률','코로나 일일확진자(명)',\t'코로나전일대비(명)',\t'환율(원)',\t'환율전일대비(원)',\t'유가,WTI(달러)',\t'유가전일대비(달러)',\t'미국,S&P 500',\t'미국 등락률(%)']]\n",
        "con_var = con_var.dropna() #결측치 있는 행 제거\n",
        "con_var=con_var.reset_index(drop=True)\n",
        "\n",
        "df_train, df_val = train_test_split(con_var, test_size= 0.2, random_state = 2)\n",
        "\n",
        "target ='등락률'\n",
        "features = con_var.drop(columns = [target]).columns\n",
        "\n",
        "X_train = df_train[features]\n",
        "y_train = df_train[target]\n",
        "X_val = df_val[features]\n",
        "y_val = df_val[target]\n",
        "\n",
        "\n",
        "alphas = [0, 0.001, 0.01, 0.1, 1.0] #알파 = 람다(페널티). \n",
        "\n",
        "ridge = RidgeCV(alphas=alphas, normalize=True, cv=5) #cv: 교차검증(Cross-validation)\n",
        "ridge.fit(X_train, y_train)\n",
        "print(\"alpha: \", ridge.alpha_)\n",
        "print(\"best score: \", ridge.best_score_)\n",
        "\n",
        "y_pred = ridge.predict(X_val)\n",
        "\n",
        "#테스트 타깃 데이터와 예측데이터를 가지고 평균 절대 오차 구하기\n",
        "from sklearn.metrics import mean_absolute_error, r2_score\n",
        "mae = mean_absolute_error(y_val, y_pred)\n",
        "r2 = r2_score(y_val, y_pred)\n",
        "\n",
        "print(mae, r2)\n",
        "\n",
        "import joblib\n",
        "joblib.dump(ridge, 'model_con.pkl')"
      ],
      "metadata": {
        "colab": {
          "base_uri": "https://localhost:8080/"
        },
        "id": "ZFNgOse5lBBF",
        "outputId": "fc1eac8f-b1a9-4f5a-bb76-2a575ceb380f"
      },
      "execution_count": 273,
      "outputs": [
        {
          "output_type": "stream",
          "name": "stdout",
          "text": [
            "alpha:  0.1\n",
            "best score:  0.10023397183266144\n",
            "1.1271257978893885 -0.0033795808389571746\n"
          ]
        },
        {
          "output_type": "execute_result",
          "data": {
            "text/plain": [
              "['model_con.pkl']"
            ]
          },
          "metadata": {},
          "execution_count": 273
        }
      ]
    },
    {
      "cell_type": "code",
      "source": [
        "#1019 운수창고업, ware\n",
        "ware = stock.get_index_ohlcv(\"20201120\", \"20550228\", \"1019\")\n",
        "ware['등락률']=( ware['종가']-ware['종가'].shift())/ware['종가'].shift() *100\n",
        "ware=ware.reset_index(drop=False)\n",
        "\n",
        "ware_var = pd.merge(ware,var, how='left',on='날짜')\n",
        "\n",
        "ware_var=ware_var[['등락률','코로나 일일확진자(명)',\t'코로나전일대비(명)',\t'환율(원)',\t'환율전일대비(원)',\t'유가,WTI(달러)',\t'유가전일대비(달러)',\t'미국,S&P 500',\t'미국 등락률(%)']]\n",
        "ware_var = ware_var.dropna() #결측치 있는 행 제거\n",
        "ware_var=ware_var.reset_index(drop=True)\n",
        "\n",
        "df_train, df_val = train_test_split(ware_var, test_size= 0.2, random_state = 2)\n",
        "\n",
        "target ='등락률'\n",
        "features = ware_var.drop(columns = [target]).columns\n",
        "\n",
        "X_train = df_train[features]\n",
        "y_train = df_train[target]\n",
        "X_val = df_val[features]\n",
        "y_val = df_val[target]\n",
        "\n",
        "\n",
        "alphas = [0, 0.001, 0.01, 0.1, 1.0] #알파 = 람다(페널티). \n",
        "\n",
        "ridge = RidgeCV(alphas=alphas, normalize=True, cv=5) #cv: 교차검증(Cross-validation)\n",
        "ridge.fit(X_train, y_train)\n",
        "print(\"alpha: \", ridge.alpha_)\n",
        "print(\"best score: \", ridge.best_score_)\n",
        "\n",
        "y_pred = ridge.predict(X_val)\n",
        "\n",
        "#테스트 타깃 데이터와 예측데이터를 가지고 평균 절대 오차 구하기\n",
        "from sklearn.metrics import mean_absolute_error, r2_score\n",
        "mae = mean_absolute_error(y_val, y_pred)\n",
        "r2 = r2_score(y_val, y_pred)\n",
        "\n",
        "print(mae, r2)\n",
        "\n",
        "import joblib\n",
        "joblib.dump(ridge, 'model_ware.pkl')"
      ],
      "metadata": {
        "colab": {
          "base_uri": "https://localhost:8080/"
        },
        "id": "ZhzT16UTlBje",
        "outputId": "2da727cc-d068-4d4f-8e75-c4d0c4923fb2"
      },
      "execution_count": 274,
      "outputs": [
        {
          "output_type": "stream",
          "name": "stdout",
          "text": [
            "alpha:  1.0\n",
            "best score:  -0.004134174895069243\n",
            "1.2585167878103638 0.016390992394159865\n"
          ]
        },
        {
          "output_type": "execute_result",
          "data": {
            "text/plain": [
              "['model_ware.pkl']"
            ]
          },
          "metadata": {},
          "execution_count": 274
        }
      ]
    },
    {
      "cell_type": "code",
      "source": [
        "#1020 통신업, tel\n",
        "tel = stock.get_index_ohlcv(\"20201120\", \"20550228\", \"1020\")\n",
        "tel['등락률']=( tel['종가']-tel['종가'].shift())/tel['종가'].shift() *100\n",
        "tel=tel.reset_index(drop=False)\n",
        "\n",
        "tel_var = pd.merge(tel,var, how='left',on='날짜')\n",
        "\n",
        "tel_var=tel_var[['등락률','코로나 일일확진자(명)',\t'코로나전일대비(명)',\t'환율(원)',\t'환율전일대비(원)',\t'유가,WTI(달러)',\t'유가전일대비(달러)',\t'미국,S&P 500',\t'미국 등락률(%)']]\n",
        "tel_var = tel_var.dropna() #결측치 있는 행 제거\n",
        "tel_var=tel_var.reset_index(drop=True)\n",
        "\n",
        "df_train, df_val = train_test_split(tel_var, test_size= 0.2, random_state = 2)\n",
        "\n",
        "target ='등락률'\n",
        "features = tel_var.drop(columns = [target]).columns\n",
        "\n",
        "X_train = df_train[features]\n",
        "y_train = df_train[target]\n",
        "X_val = df_val[features]\n",
        "y_val = df_val[target]\n",
        "\n",
        "\n",
        "alphas = [0, 0.001, 0.01, 0.1, 1.0] #알파 = 람다(페널티). \n",
        "\n",
        "ridge = RidgeCV(alphas=alphas, normalize=True, cv=5) #cv: 교차검증(Cross-validation)\n",
        "ridge.fit(X_train, y_train)\n",
        "print(\"alpha: \", ridge.alpha_)\n",
        "print(\"best score: \", ridge.best_score_)\n",
        "\n",
        "y_pred = ridge.predict(X_val)\n",
        "\n",
        "#테스트 타깃 데이터와 예측데이터를 가지고 평균 절대 오차 구하기\n",
        "from sklearn.metrics import mean_absolute_error, r2_score\n",
        "mae = mean_absolute_error(y_val, y_pred)\n",
        "r2 = r2_score(y_val, y_pred)\n",
        "\n",
        "print(mae, r2)\n",
        "\n",
        "import joblib\n",
        "joblib.dump(ridge, 'model_tel.pkl')"
      ],
      "metadata": {
        "colab": {
          "base_uri": "https://localhost:8080/"
        },
        "id": "V_BXvkEvlHy2",
        "outputId": "1064b443-5a0f-4015-a0c2-68906c14e260"
      },
      "execution_count": 275,
      "outputs": [
        {
          "output_type": "stream",
          "name": "stdout",
          "text": [
            "alpha:  1.0\n",
            "best score:  -0.04528353149609425\n",
            "1.244478278591293 0.007123983882411977\n"
          ]
        },
        {
          "output_type": "execute_result",
          "data": {
            "text/plain": [
              "['model_tel.pkl']"
            ]
          },
          "metadata": {},
          "execution_count": 275
        }
      ]
    },
    {
      "cell_type": "code",
      "source": [
        "#1021 금융업, fin\n",
        "fin = stock.get_index_ohlcv(\"20201120\", \"20550228\", \"1021\")\n",
        "fin['등락률']=( fin['종가']-fin['종가'].shift())/fin['종가'].shift() *100\n",
        "fin=fin.reset_index(drop=False)\n",
        "\n",
        "fin_var = pd.merge(fin,var, how='left',on='날짜')\n",
        "\n",
        "fin_var=fin_var[['등락률','코로나 일일확진자(명)',\t'코로나전일대비(명)',\t'환율(원)',\t'환율전일대비(원)',\t'유가,WTI(달러)',\t'유가전일대비(달러)',\t'미국,S&P 500',\t'미국 등락률(%)']]\n",
        "fin_var = fin_var.dropna() #결측치 있는 행 제거\n",
        "fin_var=fin_var.reset_index(drop=True)\n",
        "\n",
        "df_train, df_val = train_test_split(fin_var, test_size= 0.2, random_state = 2)\n",
        "\n",
        "target ='등락률'\n",
        "features = fin_var.drop(columns = [target]).columns\n",
        "\n",
        "X_train = df_train[features]\n",
        "y_train = df_train[target]\n",
        "X_val = df_val[features]\n",
        "y_val = df_val[target]\n",
        "\n",
        "\n",
        "alphas = [0, 0.001, 0.01, 0.1, 1.0] #알파 = 람다(페널티). \n",
        "\n",
        "ridge = RidgeCV(alphas=alphas, normalize=True, cv=5) #cv: 교차검증(Cross-validation)\n",
        "ridge.fit(X_train, y_train)\n",
        "print(\"alpha: \", ridge.alpha_)\n",
        "print(\"best score: \", ridge.best_score_)\n",
        "\n",
        "y_pred = ridge.predict(X_val)\n",
        "\n",
        "#테스트 타깃 데이터와 예측데이터를 가지고 평균 절대 오차 구하기\n",
        "from sklearn.metrics import mean_absolute_error, r2_score\n",
        "mae = mean_absolute_error(y_val, y_pred)\n",
        "r2 = r2_score(y_val, y_pred)\n",
        "\n",
        "print(mae, r2)\n",
        "\n",
        "import joblib\n",
        "joblib.dump(ridge, 'model_fin.pkl')"
      ],
      "metadata": {
        "colab": {
          "base_uri": "https://localhost:8080/"
        },
        "id": "Z-cNhikplODF",
        "outputId": "b8106ff8-1881-4360-8aa0-360340d67049"
      },
      "execution_count": 276,
      "outputs": [
        {
          "output_type": "stream",
          "name": "stdout",
          "text": [
            "alpha:  1.0\n",
            "best score:  0.07423583005855328\n",
            "0.8648052357661976 -0.012249556980881815\n"
          ]
        },
        {
          "output_type": "execute_result",
          "data": {
            "text/plain": [
              "['model_fin.pkl']"
            ]
          },
          "metadata": {},
          "execution_count": 276
        }
      ]
    },
    {
      "cell_type": "code",
      "source": [
        "#1022 은행, bank\n",
        "bank = stock.get_index_ohlcv(\"20201120\", \"20550228\", \"1022\")\n",
        "bank['등락률']=( bank['종가']-bank['종가'].shift())/bank['종가'].shift() *100\n",
        "bank=bank.reset_index(drop=False)\n",
        "\n",
        "bank_var = pd.merge(bank,var, how='left',on='날짜')\n",
        "\n",
        "bank_var=bank_var[['등락률','코로나 일일확진자(명)',\t'코로나전일대비(명)',\t'환율(원)',\t'환율전일대비(원)',\t'유가,WTI(달러)',\t'유가전일대비(달러)',\t'미국,S&P 500',\t'미국 등락률(%)']]\n",
        "bank_var = bank_var.dropna() #결측치 있는 행 제거\n",
        "bank_var=bank_var.reset_index(drop=True)\n",
        "\n",
        "df_train, df_val = train_test_split(bank_var, test_size= 0.2, random_state = 2)\n",
        "\n",
        "target ='등락률'\n",
        "features = bank_var.drop(columns = [target]).columns\n",
        "\n",
        "X_train = df_train[features]\n",
        "y_train = df_train[target]\n",
        "X_val = df_val[features]\n",
        "y_val = df_val[target]\n",
        "\n",
        "\n",
        "alphas = [0, 0.001, 0.01, 0.1, 1.0] #알파 = 람다(페널티). \n",
        "\n",
        "ridge = RidgeCV(alphas=alphas, normalize=True, cv=5) #cv: 교차검증(Cross-validation)\n",
        "ridge.fit(X_train, y_train)\n",
        "print(\"alpha: \", ridge.alpha_)\n",
        "print(\"best score: \", ridge.best_score_)\n",
        "\n",
        "y_pred = ridge.predict(X_val)\n",
        "\n",
        "#테스트 타깃 데이터와 예측데이터를 가지고 평균 절대 오차 구하기\n",
        "from sklearn.metrics import mean_absolute_error, r2_score\n",
        "mae = mean_absolute_error(y_val, y_pred)\n",
        "r2 = r2_score(y_val, y_pred)\n",
        "\n",
        "print(mae, r2)\n",
        "\n",
        "import joblib\n",
        "joblib.dump(ridge, 'model_bank.pkl')"
      ],
      "metadata": {
        "colab": {
          "base_uri": "https://localhost:8080/"
        },
        "id": "qoDspjuClQG7",
        "outputId": "2f106401-19b9-47cc-ac21-85815bcd4d5f"
      },
      "execution_count": 277,
      "outputs": [
        {
          "output_type": "stream",
          "name": "stdout",
          "text": [
            "alpha:  1.0\n",
            "best score:  -0.014001009414975684\n",
            "1.2591934027452287 -0.18895738727517775\n"
          ]
        },
        {
          "output_type": "execute_result",
          "data": {
            "text/plain": [
              "['model_bank.pkl']"
            ]
          },
          "metadata": {},
          "execution_count": 277
        }
      ]
    },
    {
      "cell_type": "code",
      "source": [
        "#1024 증권, sto\n",
        "sto = stock.get_index_ohlcv(\"20201120\", \"20550228\", \"1024\")\n",
        "sto['등락률']=( sto['종가']-sto['종가'].shift())/sto['종가'].shift() *100\n",
        "sto=sto.reset_index(drop=False)\n",
        "\n",
        "sto_var = pd.merge(sto,var, how='left',on='날짜')\n",
        "\n",
        "sto_var=sto_var[['등락률','코로나 일일확진자(명)',\t'코로나전일대비(명)',\t'환율(원)',\t'환율전일대비(원)',\t'유가,WTI(달러)',\t'유가전일대비(달러)',\t'미국,S&P 500',\t'미국 등락률(%)']]\n",
        "sto_var = sto_var.dropna() #결측치 있는 행 제거\n",
        "sto_var=sto_var.reset_index(drop=True)\n",
        "\n",
        "df_train, df_val = train_test_split(sto_var, test_size= 0.2, random_state = 2)\n",
        "\n",
        "target ='등락률'\n",
        "features = sto_var.drop(columns = [target]).columns\n",
        "\n",
        "X_train = df_train[features]\n",
        "y_train = df_train[target]\n",
        "X_val = df_val[features]\n",
        "y_val = df_val[target]\n",
        "\n",
        "\n",
        "alphas = [0, 0.001, 0.01, 0.1, 1.0] #알파 = 람다(페널티). \n",
        "\n",
        "ridge = RidgeCV(alphas=alphas, normalize=True, cv=5) #cv: 교차검증(Cross-validation)\n",
        "ridge.fit(X_train, y_train)\n",
        "print(\"alpha: \", ridge.alpha_)\n",
        "print(\"best score: \", ridge.best_score_)\n",
        "\n",
        "y_pred = ridge.predict(X_val)\n",
        "\n",
        "#테스트 타깃 데이터와 예측데이터를 가지고 평균 절대 오차 구하기\n",
        "from sklearn.metrics import mean_absolute_error, r2_score\n",
        "mae = mean_absolute_error(y_val, y_pred)\n",
        "r2 = r2_score(y_val, y_pred)\n",
        "\n",
        "print(mae, r2)\n",
        "\n",
        "import joblib\n",
        "joblib.dump(ridge, 'model_sto.pkl')"
      ],
      "metadata": {
        "colab": {
          "base_uri": "https://localhost:8080/"
        },
        "id": "wyqPYUYDlQZ6",
        "outputId": "b73f57ec-fb76-4900-f0fe-caaa1098dd79"
      },
      "execution_count": 278,
      "outputs": [
        {
          "output_type": "stream",
          "name": "stdout",
          "text": [
            "alpha:  0.1\n",
            "best score:  0.13087085657501077\n",
            "1.0566143074715275 0.05550743850334694\n"
          ]
        },
        {
          "output_type": "execute_result",
          "data": {
            "text/plain": [
              "['model_sto.pkl']"
            ]
          },
          "metadata": {},
          "execution_count": 278
        }
      ]
    },
    {
      "cell_type": "code",
      "source": [
        "#1025 보험, ins\n",
        "ins = stock.get_index_ohlcv(\"20201120\", \"20550228\", \"1025\")\n",
        "ins['등락률']=( ins['종가']-ins['종가'].shift())/ins['종가'].shift() *100\n",
        "ins=ins.reset_index(drop=False)\n",
        "\n",
        "ins_var = pd.merge(ins,var, how='left',on='날짜')\n",
        "\n",
        "ins_var=ins_var[['등락률','코로나 일일확진자(명)',\t'코로나전일대비(명)',\t'환율(원)',\t'환율전일대비(원)',\t'유가,WTI(달러)',\t'유가전일대비(달러)',\t'미국,S&P 500',\t'미국 등락률(%)']]\n",
        "ins_var = ins_var.dropna() #결측치 있는 행 제거\n",
        "ins_var=ins_var.reset_index(drop=True)\n",
        "\n",
        "df_train, df_val = train_test_split(ins_var, test_size= 0.2, random_state = 2)\n",
        "\n",
        "target ='등락률'\n",
        "features = ins_var.drop(columns = [target]).columns\n",
        "\n",
        "X_train = df_train[features]\n",
        "y_train = df_train[target]\n",
        "X_val = df_val[features]\n",
        "y_val = df_val[target]\n",
        "\n",
        "\n",
        "alphas = [0, 0.001, 0.01, 0.1, 1.0] #알파 = 람다(페널티). \n",
        "\n",
        "ridge = RidgeCV(alphas=alphas, normalize=True, cv=5) #cv: 교차검증(Cross-validation)\n",
        "ridge.fit(X_train, y_train)\n",
        "print(\"alpha: \", ridge.alpha_)\n",
        "print(\"best score: \", ridge.best_score_)\n",
        "\n",
        "y_pred = ridge.predict(X_val)\n",
        "\n",
        "#테스트 타깃 데이터와 예측데이터를 가지고 평균 절대 오차 구하기\n",
        "from sklearn.metrics import mean_absolute_error, r2_score\n",
        "mae = mean_absolute_error(y_val, y_pred)\n",
        "r2 = r2_score(y_val, y_pred)\n",
        "\n",
        "print(mae, r2)\n",
        "\n",
        "import joblib\n",
        "joblib.dump(ridge, 'model_ins.pkl')"
      ],
      "metadata": {
        "colab": {
          "base_uri": "https://localhost:8080/"
        },
        "id": "fBYImudflQsg",
        "outputId": "5a7880e9-5c9d-4487-e8b8-a2625ff102e0"
      },
      "execution_count": 279,
      "outputs": [
        {
          "output_type": "stream",
          "name": "stdout",
          "text": [
            "alpha:  1.0\n",
            "best score:  -0.02049727460463511\n",
            "1.019351107117209 -0.005094670523397182\n"
          ]
        },
        {
          "output_type": "execute_result",
          "data": {
            "text/plain": [
              "['model_ins.pkl']"
            ]
          },
          "metadata": {},
          "execution_count": 279
        }
      ]
    },
    {
      "cell_type": "code",
      "source": [
        "#1026 서비스업, ser\n",
        "ser = stock.get_index_ohlcv(\"20201120\", \"20550228\", \"1026\")\n",
        "ser['등락률']=( ser['종가']-ser['종가'].shift())/ser['종가'].shift() *100\n",
        "ser=ser.reset_index(drop=False)\n",
        "\n",
        "ser_var = pd.merge(ser,var, how='left',on='날짜')\n",
        "\n",
        "ser_var=ser_var[['등락률','코로나 일일확진자(명)',\t'코로나전일대비(명)',\t'환율(원)',\t'환율전일대비(원)',\t'유가,WTI(달러)',\t'유가전일대비(달러)',\t'미국,S&P 500',\t'미국 등락률(%)']]\n",
        "ser_var = ser_var.dropna() #결측치 있는 행 제거\n",
        "ser_var=ser_var.reset_index(drop=True)\n",
        "\n",
        "df_train, df_val = train_test_split(ser_var, test_size= 0.2, random_state = 2)\n",
        "\n",
        "target ='등락률'\n",
        "features = ser_var.drop(columns = [target]).columns\n",
        "\n",
        "X_train = df_train[features]\n",
        "y_train = df_train[target]\n",
        "X_val = df_val[features]\n",
        "y_val = df_val[target]\n",
        "\n",
        "\n",
        "alphas = [0, 0.001, 0.01, 0.1, 1.0] #알파 = 람다(페널티). \n",
        "\n",
        "ridge = RidgeCV(alphas=alphas, normalize=True, cv=5) #cv: 교차검증(Cross-validation)\n",
        "ridge.fit(X_train, y_train)\n",
        "print(\"alpha: \", ridge.alpha_)\n",
        "print(\"best score: \", ridge.best_score_)\n",
        "\n",
        "y_pred = ridge.predict(X_val)\n",
        "\n",
        "#테스트 타깃 데이터와 예측데이터를 가지고 평균 절대 오차 구하기\n",
        "from sklearn.metrics import mean_absolute_error, r2_score\n",
        "mae = mean_absolute_error(y_val, y_pred)\n",
        "r2 = r2_score(y_val, y_pred)\n",
        "\n",
        "print(mae, r2)\n",
        "\n",
        "import joblib\n",
        "joblib.dump(ridge, 'model_ser.pkl')"
      ],
      "metadata": {
        "colab": {
          "base_uri": "https://localhost:8080/"
        },
        "id": "Nan4LffmlRGb",
        "outputId": "f596c4ae-8285-4f5d-b65b-d0ebe7ab5890"
      },
      "execution_count": 280,
      "outputs": [
        {
          "output_type": "stream",
          "name": "stdout",
          "text": [
            "alpha:  1.0\n",
            "best score:  -0.026991085971601315\n",
            "1.0725091372910336 0.08182137057707539\n"
          ]
        },
        {
          "output_type": "execute_result",
          "data": {
            "text/plain": [
              "['model_ser.pkl']"
            ]
          },
          "metadata": {},
          "execution_count": 280
        }
      ]
    },
    {
      "cell_type": "code",
      "source": [
        "#1027 제조업, man\n",
        "man = stock.get_index_ohlcv(\"20201120\", \"20550228\", \"1027\")\n",
        "man['등락률']=( man['종가']-man['종가'].shift())/man['종가'].shift() *100\n",
        "man=man.reset_index(drop=False)\n",
        "\n",
        "man_var = pd.merge(man,var, how='left',on='날짜')\n",
        "\n",
        "man_var=man_var[['등락률','코로나 일일확진자(명)',\t'코로나전일대비(명)',\t'환율(원)',\t'환율전일대비(원)',\t'유가,WTI(달러)',\t'유가전일대비(달러)',\t'미국,S&P 500',\t'미국 등락률(%)']]\n",
        "man_var = man_var.dropna() #결측치 있는 행 제거\n",
        "man_var=man_var.reset_index(drop=True)\n",
        "\n",
        "df_train, df_val = train_test_split(man_var, test_size= 0.2, random_state = 2)\n",
        "\n",
        "target ='등락률'\n",
        "features = man_var.drop(columns = [target]).columns\n",
        "\n",
        "X_train = df_train[features]\n",
        "y_train = df_train[target]\n",
        "X_val = df_val[features]\n",
        "y_val = df_val[target]\n",
        "\n",
        "\n",
        "alphas = [0, 0.001, 0.01, 0.1, 1.0] #알파 = 람다(페널티). \n",
        "\n",
        "ridge = RidgeCV(alphas=alphas, normalize=True, cv=5) #cv: 교차검증(Cross-validation)\n",
        "ridge.fit(X_train, y_train)\n",
        "print(\"alpha: \", ridge.alpha_)\n",
        "print(\"best score: \", ridge.best_score_)\n",
        "\n",
        "y_pred = ridge.predict(X_val)\n",
        "\n",
        "#테스트 타깃 데이터와 예측데이터를 가지고 평균 절대 오차 구하기\n",
        "from sklearn.metrics import mean_absolute_error, r2_score\n",
        "mae = mean_absolute_error(y_val, y_pred)\n",
        "r2 = r2_score(y_val, y_pred)\n",
        "\n",
        "print(mae, r2)\n",
        "\n",
        "import joblib\n",
        "joblib.dump(ridge, 'model_man.pkl')"
      ],
      "metadata": {
        "colab": {
          "base_uri": "https://localhost:8080/"
        },
        "id": "sB6-tIPglRiA",
        "outputId": "34d87229-2567-44ea-bf59-70b358aa9b86"
      },
      "execution_count": 281,
      "outputs": [
        {
          "output_type": "stream",
          "name": "stdout",
          "text": [
            "alpha:  0.1\n",
            "best score:  0.2201123515893464\n",
            "0.8079008134023399 0.06704219143546253\n"
          ]
        },
        {
          "output_type": "execute_result",
          "data": {
            "text/plain": [
              "['model_man.pkl']"
            ]
          },
          "metadata": {},
          "execution_count": 281
        }
      ]
    }
  ]
}